{
 "cells": [
  {
   "cell_type": "code",
   "execution_count": 2,
   "metadata": {
    "collapsed": true
   },
   "outputs": [
    {
     "name": "stdout",
     "output_type": "stream",
     "text": [
      "       Season   Lg                 Team   W   L   W/L%  Finish    SRS  Pace  \\\n",
      "0     2017-18  NBA       Boston Celtics  29  10  0.744       1   4.38  95.4   \n",
      "1     2016-17  NBA      Boston Celtics*  53  29  0.646       1   2.25  96.8   \n",
      "2     2015-16  NBA      Boston Celtics*  48  34  0.585       2   2.84  98.5   \n",
      "3     2014-15  NBA      Boston Celtics*  40  42  0.488       2  -0.40  95.8   \n",
      "4     2013-14  NBA       Boston Celtics  25  57  0.305       4  -4.97  93.3   \n",
      "...       ...  ...                  ...  ..  ..    ...     ...    ...   ...   \n",
      "1478  1999-00  NBA  Vancouver Grizzlies  22  60  0.268       7  -5.10  91.0   \n",
      "1479  1998-99  NBA  Vancouver Grizzlies   8  42  0.160       7  -8.94  89.0   \n",
      "1480  1997-98  NBA  Vancouver Grizzlies  19  63  0.232       6  -7.47  92.1   \n",
      "1481  1996-97  NBA  Vancouver Grizzlies  14  68  0.171       7 -10.17  88.4   \n",
      "1482  1995-96  NBA  Vancouver Grizzlies  15  67  0.183       7  -9.55  91.0   \n",
      "\n",
      "      Rel_Pace   ORtg  Rel_ORtg   DRtg  Rel_DRtg                Playoffs  \\\n",
      "0         -1.7  108.0       0.2  102.8      -5.0                     NaN   \n",
      "1          0.4  111.2       2.4  108.4      -0.4    Lost E. Conf. Finals   \n",
      "2          2.7  106.8       0.4  103.6      -2.8  Lost E. Conf. 1st Rnd.   \n",
      "3          1.9  104.7      -0.9  104.5      -1.1  Lost E. Conf. 1st Rnd.   \n",
      "4         -0.6  102.9      -3.8  107.7       1.0                     NaN   \n",
      "...        ...    ...       ...    ...       ...                     ...   \n",
      "1478      -2.1  102.3      -1.8  108.5       4.4                     NaN   \n",
      "1479       0.1   98.4      -3.8  107.9       5.7                     NaN   \n",
      "1480       1.8  104.1      -0.9  112.0       7.0                     NaN   \n",
      "1481      -1.7  100.3      -6.4  111.8       5.1                     NaN   \n",
      "1482      -0.8   97.6     -10.0  108.5       0.9                     NaN   \n",
      "\n",
      "                                  Coaches                Top WS  \n",
      "0                      B. Stevens (29-10)       K. Irving (5.7)  \n",
      "1                      B. Stevens (53-29)      I. Thomas (12.5)  \n",
      "2                      B. Stevens (48-34)       I. Thomas (9.7)  \n",
      "3                      B. Stevens (40-42)       T. Zeller (6.5)  \n",
      "4                      B. Stevens (25-57)         B. Bass (5.1)  \n",
      "...                                   ...                   ...  \n",
      "1478    B. Hill (4-18) L. Hollins (18-42)  S. Abdur-Rahim (8.8)  \n",
      "1479                       B. Hill (8-42)  S. Abdur-Rahim (4.6)  \n",
      "1480                      B. Hill (19-63)  S. Abdur-Rahim (6.9)  \n",
      "1481  B. Winters (8-35) S. Jackson (6-33)      G. Anthony (3.5)  \n",
      "1482                   B. Winters (15-67)      G. Anthony (4.8)  \n",
      "\n",
      "[1483 rows x 17 columns]\n",
      "       Season   Lg                 Team   W   L   W/L%  Finish    SRS  Pace  \\\n",
      "0     2017-18  NBA       Boston Celtics  29  10  0.744       1   4.38  95.4   \n",
      "1     2016-17  NBA      Boston Celtics*  53  29  0.646       1   2.25  96.8   \n",
      "2     2015-16  NBA      Boston Celtics*  48  34  0.585       2   2.84  98.5   \n",
      "3     2014-15  NBA      Boston Celtics*  40  42  0.488       2  -0.40  95.8   \n",
      "4     2013-14  NBA       Boston Celtics  25  57  0.305       4  -4.97  93.3   \n",
      "...       ...  ...                  ...  ..  ..    ...     ...    ...   ...   \n",
      "1478  1999-00  NBA  Vancouver Grizzlies  22  60  0.268       7  -5.10  91.0   \n",
      "1479  1998-99  NBA  Vancouver Grizzlies   8  42  0.160       7  -8.94  89.0   \n",
      "1480  1997-98  NBA  Vancouver Grizzlies  19  63  0.232       6  -7.47  92.1   \n",
      "1481  1996-97  NBA  Vancouver Grizzlies  14  68  0.171       7 -10.17  88.4   \n",
      "1482  1995-96  NBA  Vancouver Grizzlies  15  67  0.183       7  -9.55  91.0   \n",
      "\n",
      "      Rel_Pace   ORtg  Rel_ORtg   DRtg  Rel_DRtg                Playoffs  \\\n",
      "0         -1.7  108.0       0.2  102.8      -5.0                     NaN   \n",
      "1          0.4  111.2       2.4  108.4      -0.4    Lost E. Conf. Finals   \n",
      "2          2.7  106.8       0.4  103.6      -2.8  Lost E. Conf. 1st Rnd.   \n",
      "3          1.9  104.7      -0.9  104.5      -1.1  Lost E. Conf. 1st Rnd.   \n",
      "4         -0.6  102.9      -3.8  107.7       1.0                     NaN   \n",
      "...        ...    ...       ...    ...       ...                     ...   \n",
      "1478      -2.1  102.3      -1.8  108.5       4.4                     NaN   \n",
      "1479       0.1   98.4      -3.8  107.9       5.7                     NaN   \n",
      "1480       1.8  104.1      -0.9  112.0       7.0                     NaN   \n",
      "1481      -1.7  100.3      -6.4  111.8       5.1                     NaN   \n",
      "1482      -0.8   97.6     -10.0  108.5       0.9                     NaN   \n",
      "\n",
      "                                  Coaches                Top WS  \n",
      "0                      B. Stevens (29-10)       K. Irving (5.7)  \n",
      "1                      B. Stevens (53-29)      I. Thomas (12.5)  \n",
      "2                      B. Stevens (48-34)       I. Thomas (9.7)  \n",
      "3                      B. Stevens (40-42)       T. Zeller (6.5)  \n",
      "4                      B. Stevens (25-57)         B. Bass (5.1)  \n",
      "...                                   ...                   ...  \n",
      "1478    B. Hill (4-18) L. Hollins (18-42)  S. Abdur-Rahim (8.8)  \n",
      "1479                       B. Hill (8-42)  S. Abdur-Rahim (4.6)  \n",
      "1480                      B. Hill (19-63)  S. Abdur-Rahim (6.9)  \n",
      "1481  B. Winters (8-35) S. Jackson (6-33)      G. Anthony (3.5)  \n",
      "1482                   B. Winters (15-67)      G. Anthony (4.8)  \n",
      "\n",
      "[1483 rows x 17 columns]\n"
     ]
    }
   ],
   "source": [
    "import pandas as pd\n",
    "\n",
    "team_recs = pd.read_csv('Team_Records.csv')\n",
    "print(team_recs)"
   ]
  },
  {
   "cell_type": "code",
   "execution_count": null,
   "outputs": [],
   "source": [],
   "metadata": {
    "collapsed": false,
    "pycharm": {
     "name": "#%%\n"
    }
   }
  }
 ],
 "metadata": {
  "kernelspec": {
   "display_name": "Python 3",
   "language": "python",
   "name": "python3"
  },
  "language_info": {
   "codemirror_mode": {
    "name": "ipython",
    "version": 2
   },
   "file_extension": ".py",
   "mimetype": "text/x-python",
   "name": "python",
   "nbconvert_exporter": "python",
   "pygments_lexer": "ipython2",
   "version": "2.7.6"
  }
 },
 "nbformat": 4,
 "nbformat_minor": 0
}