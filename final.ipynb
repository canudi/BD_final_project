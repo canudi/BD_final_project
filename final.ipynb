{
 "cells": [
  {
   "cell_type": "code",
   "execution_count": 77,
   "outputs": [
    {
     "name": "stdout",
     "output_type": "stream",
     "text": [
      "        Tm    Year    AST      MP     PTS   3PA     2PA   PER     G       TbY\n",
      "5727   LAL  1980.0  371.0  3143.0  2034.0   1.0  1382.0  25.3  82.0  1980 LAL\n",
      "5728   GSW  1980.0   87.0  1222.0   362.0   1.0   317.0  11.0  67.0  1980 GSW\n",
      "5729   PHO  1980.0  322.0  2168.0  1118.0   2.0   873.0  19.2  75.0  1980 PHO\n",
      "5730   BOS  1980.0  671.0  2864.0  1131.0  18.0   776.0  15.3  80.0  1980 BOS\n",
      "5731   CHI  1980.0   40.0   560.0    86.0   0.0    60.0   7.4  26.0  1980 CHI\n",
      "...    ...     ...    ...     ...     ...   ...     ...   ...   ...       ...\n",
      "24686  CHO  2017.0   99.0  1725.0   639.0   1.0   442.0  16.7  62.0  2017 CHO\n",
      "24687  BOS  2017.0   42.0   525.0   178.0   1.0   157.0  13.0  51.0  2017 BOS\n",
      "24688  ORL  2017.0    4.0   108.0    23.0   0.0    31.0   7.3  19.0  2017 ORL\n",
      "24689  CHI  2017.0   36.0   843.0   240.0  99.0   122.0   6.9  44.0  2017 CHI\n",
      "24690  LAL  2017.0   30.0   609.0   284.0   3.0   235.0  17.0  38.0  2017 LAL\n",
      "\n",
      "[17286 rows x 10 columns]\n"
     ]
    }
   ],
   "source": [
    "import pandas as pd\n",
    "import matplotlib.pyplot as plt\n",
    "import numpy as np\n",
    "\n",
    "season_stats = pd.read_csv('Seasons_Stats.csv')\n",
    "\n",
    "\"\"\" Structuring a DataFrame of aspects that imply a team plays a \"\"\"\n",
    "\n",
    "# team_playing_stats = season_stats.loc['Year', 'Tm', 'MP', 'PER', 'AST', 'AST%', 'USG%', 'PTS', '3PA', '2PA', 'PF']\n",
    "\"\"\" build normalized series for each interesting column \"\"\"\n",
    "players_df = season_stats[['Tm', 'Year', 'AST', 'MP', 'PTS', '3PA', '2PA', 'PER', 'G']].dropna()\n",
    "TOT_mask = players_df.Tm == 'TOT'           # the sum of stats for a player that played for more than 1 team\n",
    "players_df = players_df[~TOT_mask]\n",
    "players_df['TbY'] = players_df.Year.astype(int).apply(lambda name: str(name)) + ' ' + players_df.Tm\n",
    "print(players_df)"
   ],
   "metadata": {
    "collapsed": false,
    "pycharm": {
     "name": "#%%\n"
    }
   }
  },
  {
   "cell_type": "code",
   "execution_count": 78,
   "outputs": [
    {
     "data": {
      "text/plain": "<Figure size 432x288 with 1 Axes>",
      "image/png": "[encoded data removed]"
     },
     "metadata": {
      "needs_background": "light"
     },
     "output_type": "display_data"
    },
    {
     "data": {
      "text/plain": "' try building a ML model to predict success - try to minimize error rate '"
     },
     "execution_count": 78,
     "metadata": {},
     "output_type": "execute_result"
    }
   ],
   "source": [
    "assists_by_team = players_df[['AST', 'TbY']].groupby(players_df.TbY).sum()\n",
    "tby_mask = (players_df.groupby(players_df.TbY).count() > 13).Tm     # a team must have at least 14 players with data\n",
    "plt.hist(assists_by_team[tby_mask], bins=100)\n",
    "plt.title('Assists for a Team Distribution')\n",
    "plt.show()\n",
    "# print(players_df)\n",
    "# maybe plot a histogram of assists_by_team\n",
    "# print(assists_by_team[tby_mask].sort_values('AST'))\n",
    "\n",
    "\n",
    "\"\"\"\n",
    "build team_playing_by_team DF with normalized series for each interesting column by team - X matrix:\n",
    "    AST -   sum\n",
    "    MP  -   distribution - nuschat motivation: 1 - normalized std\n",
    "    PTS -   distribution\n",
    "    PA  -   distribution\n",
    "    PF  -   distribution\n",
    "index - <season>_<team_name>\n",
    "\"\"\"\n",
    "\n",
    "\"\"\" maybe - check correlation between the columns in X \"\"\"\n",
    "\n",
    "\"\"\" build y series - team success for each season \"\"\"\n",
    "\n",
    "\"\"\" check correlation for each colum in X with y \"\"\"\n",
    "\n",
    "\"\"\" hypothesis testing \"\"\"\n",
    "\n",
    "\"\"\" try building a ML model to predict success - try to minimize error rate \"\"\"\n",
    "\n",
    "\n"
   ],
   "metadata": {
    "collapsed": false,
    "pycharm": {
     "name": "#%%\n"
    }
   }
  },
  {
   "cell_type": "code",
   "execution_count": 79,
   "outputs": [
    {
     "data": {
      "text/plain": "<Figure size 432x288 with 1 Axes>",
      "image/png": "[encoded data removed]"
     },
     "metadata": {
      "needs_background": "light"
     },
     "output_type": "display_data"
    }
   ],
   "source": [
    "players_df['MpGnorm'] = players_df['MP'] / (players_df['G'] * 48)\n",
    "norm_minutes_distribution = 1 - players_df[['MpGnorm', 'TbY']].groupby(players_df.TbY).std()\n",
    "# The large the std => the division of minutes in the team is smaller.\n",
    "plt.hist(norm_minutes_distribution[tby_mask], bins=100)\n",
    "plt.title('Minutes Distribution for a Team')\n",
    "plt.show()"
   ],
   "metadata": {
    "collapsed": false,
    "pycharm": {
     "name": "#%%\n"
    }
   }
  },
  {
   "cell_type": "code",
   "execution_count": 80,
   "outputs": [
    {
     "data": {
      "text/plain": "<Figure size 432x288 with 1 Axes>",
      "image/png": "[encoded data removed]"
     },
     "metadata": {
      "needs_background": "light"
     },
     "output_type": "display_data"
    }
   ],
   "source": [
    "players_df['nPTS'] = players_df.PTS / players_df.G\n",
    "points_distribution = players_df[['nPTS', 'TbY']].groupby(players_df.TbY).std()\n",
    "norm_points_distribution = 1 - (points_distribution / np.linalg.norm(points_distribution))\n",
    "# The large the std => the division of points in the team is smaller.\n",
    "plt.hist(norm_points_distribution[tby_mask], bins=100)\n",
    "plt.title('Points Distribution for a Team')\n",
    "plt.show()"
   ],
   "metadata": {
    "collapsed": false,
    "pycharm": {
     "name": "#%%\n"
    }
   }
  },
  {
   "cell_type": "code",
   "execution_count": 81,
   "outputs": [
    {
     "ename": "KeyboardInterrupt",
     "evalue": "",
     "output_type": "error",
     "traceback": [
      "\u001B[1;31m---------------------------------------------------------------------------\u001B[0m",
      "\u001B[1;31mKeyboardInterrupt\u001B[0m                         Traceback (most recent call last)",
      "Input \u001B[1;32mIn [81]\u001B[0m, in \u001B[0;36m<cell line: 7>\u001B[1;34m()\u001B[0m\n\u001B[0;32m      5\u001B[0m plt\u001B[38;5;241m.\u001B[39mhist(norm_shots_distribution[tby_mask], bins\u001B[38;5;241m=\u001B[39m\u001B[38;5;241m100\u001B[39m)\n\u001B[0;32m      6\u001B[0m plt\u001B[38;5;241m.\u001B[39mtitle(\u001B[38;5;124m'\u001B[39m\u001B[38;5;124mShots Distribution for a Team\u001B[39m\u001B[38;5;124m'\u001B[39m)\n\u001B[1;32m----> 7\u001B[0m \u001B[43mplt\u001B[49m\u001B[38;5;241;43m.\u001B[39;49m\u001B[43mshow\u001B[49m\u001B[43m(\u001B[49m\u001B[43m)\u001B[49m\n",
      "File \u001B[1;32m~\\anaconda3\\envs\\BigData_Class_Ex\\lib\\site-packages\\matplotlib\\pyplot.py:368\u001B[0m, in \u001B[0;36mshow\u001B[1;34m(*args, **kwargs)\u001B[0m\n\u001B[0;32m    324\u001B[0m \u001B[38;5;124;03m\"\"\"\u001B[39;00m\n\u001B[0;32m    325\u001B[0m \u001B[38;5;124;03mDisplay all open figures.\u001B[39;00m\n\u001B[0;32m    326\u001B[0m \n\u001B[1;32m   (...)\u001B[0m\n\u001B[0;32m    365\u001B[0m \u001B[38;5;124;03mexplicitly there.\u001B[39;00m\n\u001B[0;32m    366\u001B[0m \u001B[38;5;124;03m\"\"\"\u001B[39;00m\n\u001B[0;32m    367\u001B[0m _warn_if_gui_out_of_main_thread()\n\u001B[1;32m--> 368\u001B[0m \u001B[38;5;28;01mreturn\u001B[39;00m _backend_mod\u001B[38;5;241m.\u001B[39mshow(\u001B[38;5;241m*\u001B[39margs, \u001B[38;5;241m*\u001B[39m\u001B[38;5;241m*\u001B[39mkwargs)\n",
      "File \u001B[1;32m~\\anaconda3\\envs\\BigData_Class_Ex\\lib\\site-packages\\matplotlib_inline\\backend_inline.py:43\u001B[0m, in \u001B[0;36mshow\u001B[1;34m(close, block)\u001B[0m\n\u001B[0;32m     39\u001B[0m \u001B[38;5;28;01mtry\u001B[39;00m:\n\u001B[0;32m     40\u001B[0m     \u001B[38;5;28;01mfor\u001B[39;00m figure_manager \u001B[38;5;129;01min\u001B[39;00m Gcf\u001B[38;5;241m.\u001B[39mget_all_fig_managers():\n\u001B[0;32m     41\u001B[0m         display(\n\u001B[0;32m     42\u001B[0m             figure_manager\u001B[38;5;241m.\u001B[39mcanvas\u001B[38;5;241m.\u001B[39mfigure,\n\u001B[1;32m---> 43\u001B[0m             metadata\u001B[38;5;241m=\u001B[39m\u001B[43m_fetch_figure_metadata\u001B[49m\u001B[43m(\u001B[49m\u001B[43mfigure_manager\u001B[49m\u001B[38;5;241;43m.\u001B[39;49m\u001B[43mcanvas\u001B[49m\u001B[38;5;241;43m.\u001B[39;49m\u001B[43mfigure\u001B[49m\u001B[43m)\u001B[49m\n\u001B[0;32m     44\u001B[0m         )\n\u001B[0;32m     45\u001B[0m \u001B[38;5;28;01mfinally\u001B[39;00m:\n\u001B[0;32m     46\u001B[0m     show\u001B[38;5;241m.\u001B[39m_to_draw \u001B[38;5;241m=\u001B[39m []\n",
      "File \u001B[1;32m~\\anaconda3\\envs\\BigData_Class_Ex\\lib\\site-packages\\matplotlib_inline\\backend_inline.py:231\u001B[0m, in \u001B[0;36m_fetch_figure_metadata\u001B[1;34m(fig)\u001B[0m\n\u001B[0;32m    228\u001B[0m \u001B[38;5;66;03m# determine if a background is needed for legibility\u001B[39;00m\n\u001B[0;32m    229\u001B[0m \u001B[38;5;28;01mif\u001B[39;00m _is_transparent(fig\u001B[38;5;241m.\u001B[39mget_facecolor()):\n\u001B[0;32m    230\u001B[0m     \u001B[38;5;66;03m# the background is transparent\u001B[39;00m\n\u001B[1;32m--> 231\u001B[0m     ticksLight \u001B[38;5;241m=\u001B[39m _is_light([label\u001B[38;5;241m.\u001B[39mget_color()\n\u001B[0;32m    232\u001B[0m                             \u001B[38;5;28;01mfor\u001B[39;00m axes \u001B[38;5;129;01min\u001B[39;00m fig\u001B[38;5;241m.\u001B[39maxes\n\u001B[0;32m    233\u001B[0m                             \u001B[38;5;28;01mfor\u001B[39;00m axis \u001B[38;5;129;01min\u001B[39;00m (axes\u001B[38;5;241m.\u001B[39mxaxis, axes\u001B[38;5;241m.\u001B[39myaxis)\n\u001B[0;32m    234\u001B[0m                             \u001B[38;5;28;01mfor\u001B[39;00m label \u001B[38;5;129;01min\u001B[39;00m axis\u001B[38;5;241m.\u001B[39mget_ticklabels()])\n\u001B[0;32m    235\u001B[0m     \u001B[38;5;28;01mif\u001B[39;00m ticksLight\u001B[38;5;241m.\u001B[39msize \u001B[38;5;129;01mand\u001B[39;00m (ticksLight \u001B[38;5;241m==\u001B[39m ticksLight[\u001B[38;5;241m0\u001B[39m])\u001B[38;5;241m.\u001B[39mall():\n\u001B[0;32m    236\u001B[0m         \u001B[38;5;66;03m# there are one or more tick labels, all with the same lightness\u001B[39;00m\n\u001B[0;32m    237\u001B[0m         \u001B[38;5;28;01mreturn\u001B[39;00m {\u001B[38;5;124m'\u001B[39m\u001B[38;5;124mneeds_background\u001B[39m\u001B[38;5;124m'\u001B[39m: \u001B[38;5;124m'\u001B[39m\u001B[38;5;124mdark\u001B[39m\u001B[38;5;124m'\u001B[39m \u001B[38;5;28;01mif\u001B[39;00m ticksLight[\u001B[38;5;241m0\u001B[39m] \u001B[38;5;28;01melse\u001B[39;00m \u001B[38;5;124m'\u001B[39m\u001B[38;5;124mlight\u001B[39m\u001B[38;5;124m'\u001B[39m}\n",
      "File \u001B[1;32m~\\anaconda3\\envs\\BigData_Class_Ex\\lib\\site-packages\\matplotlib_inline\\backend_inline.py:234\u001B[0m, in \u001B[0;36m<listcomp>\u001B[1;34m(.0)\u001B[0m\n\u001B[0;32m    228\u001B[0m \u001B[38;5;66;03m# determine if a background is needed for legibility\u001B[39;00m\n\u001B[0;32m    229\u001B[0m \u001B[38;5;28;01mif\u001B[39;00m _is_transparent(fig\u001B[38;5;241m.\u001B[39mget_facecolor()):\n\u001B[0;32m    230\u001B[0m     \u001B[38;5;66;03m# the background is transparent\u001B[39;00m\n\u001B[0;32m    231\u001B[0m     ticksLight \u001B[38;5;241m=\u001B[39m _is_light([label\u001B[38;5;241m.\u001B[39mget_color()\n\u001B[0;32m    232\u001B[0m                             \u001B[38;5;28;01mfor\u001B[39;00m axes \u001B[38;5;129;01min\u001B[39;00m fig\u001B[38;5;241m.\u001B[39maxes\n\u001B[0;32m    233\u001B[0m                             \u001B[38;5;28;01mfor\u001B[39;00m axis \u001B[38;5;129;01min\u001B[39;00m (axes\u001B[38;5;241m.\u001B[39mxaxis, axes\u001B[38;5;241m.\u001B[39myaxis)\n\u001B[1;32m--> 234\u001B[0m                             \u001B[38;5;28;01mfor\u001B[39;00m label \u001B[38;5;129;01min\u001B[39;00m \u001B[43maxis\u001B[49m\u001B[38;5;241;43m.\u001B[39;49m\u001B[43mget_ticklabels\u001B[49m\u001B[43m(\u001B[49m\u001B[43m)\u001B[49m])\n\u001B[0;32m    235\u001B[0m     \u001B[38;5;28;01mif\u001B[39;00m ticksLight\u001B[38;5;241m.\u001B[39msize \u001B[38;5;129;01mand\u001B[39;00m (ticksLight \u001B[38;5;241m==\u001B[39m ticksLight[\u001B[38;5;241m0\u001B[39m])\u001B[38;5;241m.\u001B[39mall():\n\u001B[0;32m    236\u001B[0m         \u001B[38;5;66;03m# there are one or more tick labels, all with the same lightness\u001B[39;00m\n\u001B[0;32m    237\u001B[0m         \u001B[38;5;28;01mreturn\u001B[39;00m {\u001B[38;5;124m'\u001B[39m\u001B[38;5;124mneeds_background\u001B[39m\u001B[38;5;124m'\u001B[39m: \u001B[38;5;124m'\u001B[39m\u001B[38;5;124mdark\u001B[39m\u001B[38;5;124m'\u001B[39m \u001B[38;5;28;01mif\u001B[39;00m ticksLight[\u001B[38;5;241m0\u001B[39m] \u001B[38;5;28;01melse\u001B[39;00m \u001B[38;5;124m'\u001B[39m\u001B[38;5;124mlight\u001B[39m\u001B[38;5;124m'\u001B[39m}\n",
      "File \u001B[1;32m~\\anaconda3\\envs\\BigData_Class_Ex\\lib\\site-packages\\matplotlib\\axis.py:1249\u001B[0m, in \u001B[0;36mAxis.get_ticklabels\u001B[1;34m(self, minor, which)\u001B[0m\n\u001B[0;32m   1247\u001B[0m \u001B[38;5;28;01mif\u001B[39;00m minor:\n\u001B[0;32m   1248\u001B[0m     \u001B[38;5;28;01mreturn\u001B[39;00m \u001B[38;5;28mself\u001B[39m\u001B[38;5;241m.\u001B[39mget_minorticklabels()\n\u001B[1;32m-> 1249\u001B[0m \u001B[38;5;28;01mreturn\u001B[39;00m \u001B[38;5;28;43mself\u001B[39;49m\u001B[38;5;241;43m.\u001B[39;49m\u001B[43mget_majorticklabels\u001B[49m\u001B[43m(\u001B[49m\u001B[43m)\u001B[49m\n",
      "File \u001B[1;32m~\\anaconda3\\envs\\BigData_Class_Ex\\lib\\site-packages\\matplotlib\\axis.py:1201\u001B[0m, in \u001B[0;36mAxis.get_majorticklabels\u001B[1;34m(self)\u001B[0m\n\u001B[0;32m   1199\u001B[0m \u001B[38;5;28;01mdef\u001B[39;00m \u001B[38;5;21mget_majorticklabels\u001B[39m(\u001B[38;5;28mself\u001B[39m):\n\u001B[0;32m   1200\u001B[0m     \u001B[38;5;124;03m\"\"\"Return this Axis' major tick labels, as a list of `~.text.Text`.\"\"\"\u001B[39;00m\n\u001B[1;32m-> 1201\u001B[0m     ticks \u001B[38;5;241m=\u001B[39m \u001B[38;5;28;43mself\u001B[39;49m\u001B[38;5;241;43m.\u001B[39;49m\u001B[43mget_major_ticks\u001B[49m\u001B[43m(\u001B[49m\u001B[43m)\u001B[49m\n\u001B[0;32m   1202\u001B[0m     labels1 \u001B[38;5;241m=\u001B[39m [tick\u001B[38;5;241m.\u001B[39mlabel1 \u001B[38;5;28;01mfor\u001B[39;00m tick \u001B[38;5;129;01min\u001B[39;00m ticks \u001B[38;5;28;01mif\u001B[39;00m tick\u001B[38;5;241m.\u001B[39mlabel1\u001B[38;5;241m.\u001B[39mget_visible()]\n\u001B[0;32m   1203\u001B[0m     labels2 \u001B[38;5;241m=\u001B[39m [tick\u001B[38;5;241m.\u001B[39mlabel2 \u001B[38;5;28;01mfor\u001B[39;00m tick \u001B[38;5;129;01min\u001B[39;00m ticks \u001B[38;5;28;01mif\u001B[39;00m tick\u001B[38;5;241m.\u001B[39mlabel2\u001B[38;5;241m.\u001B[39mget_visible()]\n",
      "File \u001B[1;32m~\\anaconda3\\envs\\BigData_Class_Ex\\lib\\site-packages\\matplotlib\\axis.py:1375\u001B[0m, in \u001B[0;36mAxis.get_major_ticks\u001B[1;34m(self, numticks)\u001B[0m\n\u001B[0;32m   1371\u001B[0m     numticks \u001B[38;5;241m=\u001B[39m \u001B[38;5;28mlen\u001B[39m(\u001B[38;5;28mself\u001B[39m\u001B[38;5;241m.\u001B[39mget_majorticklocs())\n\u001B[0;32m   1373\u001B[0m \u001B[38;5;28;01mwhile\u001B[39;00m \u001B[38;5;28mlen\u001B[39m(\u001B[38;5;28mself\u001B[39m\u001B[38;5;241m.\u001B[39mmajorTicks) \u001B[38;5;241m<\u001B[39m numticks:\n\u001B[0;32m   1374\u001B[0m     \u001B[38;5;66;03m# Update the new tick label properties from the old.\u001B[39;00m\n\u001B[1;32m-> 1375\u001B[0m     tick \u001B[38;5;241m=\u001B[39m \u001B[38;5;28;43mself\u001B[39;49m\u001B[38;5;241;43m.\u001B[39;49m\u001B[43m_get_tick\u001B[49m\u001B[43m(\u001B[49m\u001B[43mmajor\u001B[49m\u001B[38;5;241;43m=\u001B[39;49m\u001B[38;5;28;43;01mTrue\u001B[39;49;00m\u001B[43m)\u001B[49m\n\u001B[0;32m   1376\u001B[0m     \u001B[38;5;28mself\u001B[39m\u001B[38;5;241m.\u001B[39mmajorTicks\u001B[38;5;241m.\u001B[39mappend(tick)\n\u001B[0;32m   1377\u001B[0m     \u001B[38;5;28mself\u001B[39m\u001B[38;5;241m.\u001B[39m_copy_tick_props(\u001B[38;5;28mself\u001B[39m\u001B[38;5;241m.\u001B[39mmajorTicks[\u001B[38;5;241m0\u001B[39m], tick)\n",
      "File \u001B[1;32m~\\anaconda3\\envs\\BigData_Class_Ex\\lib\\site-packages\\matplotlib\\axis.py:2057\u001B[0m, in \u001B[0;36mXAxis._get_tick\u001B[1;34m(self, major)\u001B[0m\n\u001B[0;32m   2055\u001B[0m \u001B[38;5;28;01melse\u001B[39;00m:\n\u001B[0;32m   2056\u001B[0m     tick_kw \u001B[38;5;241m=\u001B[39m \u001B[38;5;28mself\u001B[39m\u001B[38;5;241m.\u001B[39m_minor_tick_kw\n\u001B[1;32m-> 2057\u001B[0m \u001B[38;5;28;01mreturn\u001B[39;00m XTick(\u001B[38;5;28mself\u001B[39m\u001B[38;5;241m.\u001B[39maxes, \u001B[38;5;241m0\u001B[39m, major\u001B[38;5;241m=\u001B[39mmajor, \u001B[38;5;241m*\u001B[39m\u001B[38;5;241m*\u001B[39mtick_kw)\n",
      "File \u001B[1;32m~\\anaconda3\\envs\\BigData_Class_Ex\\lib\\site-packages\\matplotlib\\axis.py:415\u001B[0m, in \u001B[0;36mXTick.__init__\u001B[1;34m(self, *args, **kwargs)\u001B[0m\n\u001B[0;32m    414\u001B[0m \u001B[38;5;28;01mdef\u001B[39;00m \u001B[38;5;21m__init__\u001B[39m(\u001B[38;5;28mself\u001B[39m, \u001B[38;5;241m*\u001B[39margs, \u001B[38;5;241m*\u001B[39m\u001B[38;5;241m*\u001B[39mkwargs):\n\u001B[1;32m--> 415\u001B[0m     \u001B[38;5;28msuper\u001B[39m()\u001B[38;5;241m.\u001B[39m\u001B[38;5;21m__init__\u001B[39m(\u001B[38;5;241m*\u001B[39margs, \u001B[38;5;241m*\u001B[39m\u001B[38;5;241m*\u001B[39mkwargs)\n\u001B[0;32m    416\u001B[0m     \u001B[38;5;66;03m# x in data coords, y in axes coords\u001B[39;00m\n\u001B[0;32m    417\u001B[0m     ax \u001B[38;5;241m=\u001B[39m \u001B[38;5;28mself\u001B[39m\u001B[38;5;241m.\u001B[39maxes\n",
      "File \u001B[1;32m~\\anaconda3\\envs\\BigData_Class_Ex\\lib\\site-packages\\matplotlib\\axis.py:155\u001B[0m, in \u001B[0;36mTick.__init__\u001B[1;34m(self, axes, loc, size, width, color, tickdir, pad, labelsize, labelcolor, zorder, gridOn, tick1On, tick2On, label1On, label2On, major, labelrotation, grid_color, grid_linestyle, grid_linewidth, grid_alpha, **kw)\u001B[0m\n\u001B[0;32m    148\u001B[0m grid_kw \u001B[38;5;241m=\u001B[39m {k[\u001B[38;5;241m5\u001B[39m:]: v \u001B[38;5;28;01mfor\u001B[39;00m k, v \u001B[38;5;129;01min\u001B[39;00m kw\u001B[38;5;241m.\u001B[39mitems()}\n\u001B[0;32m    150\u001B[0m \u001B[38;5;28mself\u001B[39m\u001B[38;5;241m.\u001B[39mtick1line \u001B[38;5;241m=\u001B[39m mlines\u001B[38;5;241m.\u001B[39mLine2D(\n\u001B[0;32m    151\u001B[0m     [], [],\n\u001B[0;32m    152\u001B[0m     color\u001B[38;5;241m=\u001B[39mcolor, linestyle\u001B[38;5;241m=\u001B[39m\u001B[38;5;124m\"\u001B[39m\u001B[38;5;124mnone\u001B[39m\u001B[38;5;124m\"\u001B[39m, zorder\u001B[38;5;241m=\u001B[39mzorder, visible\u001B[38;5;241m=\u001B[39mtick1On,\n\u001B[0;32m    153\u001B[0m     markeredgecolor\u001B[38;5;241m=\u001B[39mcolor, markersize\u001B[38;5;241m=\u001B[39msize, markeredgewidth\u001B[38;5;241m=\u001B[39mwidth,\n\u001B[0;32m    154\u001B[0m )\n\u001B[1;32m--> 155\u001B[0m \u001B[38;5;28mself\u001B[39m\u001B[38;5;241m.\u001B[39mtick2line \u001B[38;5;241m=\u001B[39m \u001B[43mmlines\u001B[49m\u001B[38;5;241;43m.\u001B[39;49m\u001B[43mLine2D\u001B[49m\u001B[43m(\u001B[49m\n\u001B[0;32m    156\u001B[0m \u001B[43m    \u001B[49m\u001B[43m[\u001B[49m\u001B[43m]\u001B[49m\u001B[43m,\u001B[49m\u001B[43m \u001B[49m\u001B[43m[\u001B[49m\u001B[43m]\u001B[49m\u001B[43m,\u001B[49m\n\u001B[0;32m    157\u001B[0m \u001B[43m    \u001B[49m\u001B[43mcolor\u001B[49m\u001B[38;5;241;43m=\u001B[39;49m\u001B[43mcolor\u001B[49m\u001B[43m,\u001B[49m\u001B[43m \u001B[49m\u001B[43mlinestyle\u001B[49m\u001B[38;5;241;43m=\u001B[39;49m\u001B[38;5;124;43m\"\u001B[39;49m\u001B[38;5;124;43mnone\u001B[39;49m\u001B[38;5;124;43m\"\u001B[39;49m\u001B[43m,\u001B[49m\u001B[43m \u001B[49m\u001B[43mzorder\u001B[49m\u001B[38;5;241;43m=\u001B[39;49m\u001B[43mzorder\u001B[49m\u001B[43m,\u001B[49m\u001B[43m \u001B[49m\u001B[43mvisible\u001B[49m\u001B[38;5;241;43m=\u001B[39;49m\u001B[43mtick2On\u001B[49m\u001B[43m,\u001B[49m\n\u001B[0;32m    158\u001B[0m \u001B[43m    \u001B[49m\u001B[43mmarkeredgecolor\u001B[49m\u001B[38;5;241;43m=\u001B[39;49m\u001B[43mcolor\u001B[49m\u001B[43m,\u001B[49m\u001B[43m \u001B[49m\u001B[43mmarkersize\u001B[49m\u001B[38;5;241;43m=\u001B[39;49m\u001B[43msize\u001B[49m\u001B[43m,\u001B[49m\u001B[43m \u001B[49m\u001B[43mmarkeredgewidth\u001B[49m\u001B[38;5;241;43m=\u001B[39;49m\u001B[43mwidth\u001B[49m\u001B[43m,\u001B[49m\n\u001B[0;32m    159\u001B[0m \u001B[43m\u001B[49m\u001B[43m)\u001B[49m\n\u001B[0;32m    160\u001B[0m \u001B[38;5;28mself\u001B[39m\u001B[38;5;241m.\u001B[39mgridline \u001B[38;5;241m=\u001B[39m mlines\u001B[38;5;241m.\u001B[39mLine2D(\n\u001B[0;32m    161\u001B[0m     [], [],\n\u001B[0;32m    162\u001B[0m     color\u001B[38;5;241m=\u001B[39mgrid_color, alpha\u001B[38;5;241m=\u001B[39mgrid_alpha, visible\u001B[38;5;241m=\u001B[39mgridOn,\n\u001B[0;32m    163\u001B[0m     linestyle\u001B[38;5;241m=\u001B[39mgrid_linestyle, linewidth\u001B[38;5;241m=\u001B[39mgrid_linewidth, marker\u001B[38;5;241m=\u001B[39m\u001B[38;5;124m\"\u001B[39m\u001B[38;5;124m\"\u001B[39m,\n\u001B[0;32m    164\u001B[0m     \u001B[38;5;241m*\u001B[39m\u001B[38;5;241m*\u001B[39mgrid_kw,\n\u001B[0;32m    165\u001B[0m )\n\u001B[0;32m    166\u001B[0m \u001B[38;5;28mself\u001B[39m\u001B[38;5;241m.\u001B[39mgridline\u001B[38;5;241m.\u001B[39mget_path()\u001B[38;5;241m.\u001B[39m_interpolation_steps \u001B[38;5;241m=\u001B[39m \\\n\u001B[0;32m    167\u001B[0m     GRIDLINE_INTERPOLATION_STEPS\n",
      "File \u001B[1;32m~\\anaconda3\\envs\\BigData_Class_Ex\\lib\\site-packages\\matplotlib\\lines.py:371\u001B[0m, in \u001B[0;36mLine2D.__init__\u001B[1;34m(self, xdata, ydata, linewidth, linestyle, color, marker, markersize, markeredgewidth, markeredgecolor, markerfacecolor, markerfacecoloralt, fillstyle, antialiased, dash_capstyle, solid_capstyle, dash_joinstyle, solid_joinstyle, pickradius, drawstyle, markevery, **kwargs)\u001B[0m\n\u001B[0;32m    369\u001B[0m \u001B[38;5;28mself\u001B[39m\u001B[38;5;241m.\u001B[39m_color \u001B[38;5;241m=\u001B[39m \u001B[38;5;28;01mNone\u001B[39;00m\n\u001B[0;32m    370\u001B[0m \u001B[38;5;28mself\u001B[39m\u001B[38;5;241m.\u001B[39mset_color(color)\n\u001B[1;32m--> 371\u001B[0m \u001B[38;5;28mself\u001B[39m\u001B[38;5;241m.\u001B[39m_marker \u001B[38;5;241m=\u001B[39m \u001B[43mMarkerStyle\u001B[49m\u001B[43m(\u001B[49m\u001B[43mmarker\u001B[49m\u001B[43m,\u001B[49m\u001B[43m \u001B[49m\u001B[43mfillstyle\u001B[49m\u001B[43m)\u001B[49m\n\u001B[0;32m    373\u001B[0m \u001B[38;5;28mself\u001B[39m\u001B[38;5;241m.\u001B[39m_markevery \u001B[38;5;241m=\u001B[39m \u001B[38;5;28;01mNone\u001B[39;00m\n\u001B[0;32m    374\u001B[0m \u001B[38;5;28mself\u001B[39m\u001B[38;5;241m.\u001B[39m_markersize \u001B[38;5;241m=\u001B[39m \u001B[38;5;28;01mNone\u001B[39;00m\n",
      "File \u001B[1;32m~\\anaconda3\\envs\\BigData_Class_Ex\\lib\\site-packages\\matplotlib\\markers.py:234\u001B[0m, in \u001B[0;36mMarkerStyle.__init__\u001B[1;34m(self, marker, fillstyle)\u001B[0m\n\u001B[0;32m    220\u001B[0m \u001B[38;5;124;03m\"\"\"\u001B[39;00m\n\u001B[0;32m    221\u001B[0m \u001B[38;5;124;03mParameters\u001B[39;00m\n\u001B[0;32m    222\u001B[0m \u001B[38;5;124;03m----------\u001B[39;00m\n\u001B[1;32m   (...)\u001B[0m\n\u001B[0;32m    231\u001B[0m \u001B[38;5;124;03m    One of 'full', 'left', 'right', 'bottom', 'top', 'none'.\u001B[39;00m\n\u001B[0;32m    232\u001B[0m \u001B[38;5;124;03m\"\"\"\u001B[39;00m\n\u001B[0;32m    233\u001B[0m \u001B[38;5;28mself\u001B[39m\u001B[38;5;241m.\u001B[39m_marker_function \u001B[38;5;241m=\u001B[39m \u001B[38;5;28;01mNone\u001B[39;00m\n\u001B[1;32m--> 234\u001B[0m \u001B[38;5;28;43mself\u001B[39;49m\u001B[38;5;241;43m.\u001B[39;49m\u001B[43m_set_fillstyle\u001B[49m\u001B[43m(\u001B[49m\u001B[43mfillstyle\u001B[49m\u001B[43m)\u001B[49m\n\u001B[0;32m    235\u001B[0m \u001B[38;5;28mself\u001B[39m\u001B[38;5;241m.\u001B[39m_set_marker(marker)\n",
      "File \u001B[1;32m~\\anaconda3\\envs\\BigData_Class_Ex\\lib\\site-packages\\matplotlib\\markers.py:278\u001B[0m, in \u001B[0;36mMarkerStyle._set_fillstyle\u001B[1;34m(self, fillstyle)\u001B[0m\n\u001B[0;32m    276\u001B[0m \u001B[38;5;28;01mif\u001B[39;00m fillstyle \u001B[38;5;129;01mis\u001B[39;00m \u001B[38;5;28;01mNone\u001B[39;00m:\n\u001B[0;32m    277\u001B[0m     fillstyle \u001B[38;5;241m=\u001B[39m rcParams[\u001B[38;5;124m'\u001B[39m\u001B[38;5;124mmarkers.fillstyle\u001B[39m\u001B[38;5;124m'\u001B[39m]\n\u001B[1;32m--> 278\u001B[0m \u001B[43m_api\u001B[49m\u001B[38;5;241;43m.\u001B[39;49m\u001B[43mcheck_in_list\u001B[49m\u001B[43m(\u001B[49m\u001B[38;5;28;43mself\u001B[39;49m\u001B[38;5;241;43m.\u001B[39;49m\u001B[43mfillstyles\u001B[49m\u001B[43m,\u001B[49m\u001B[43m \u001B[49m\u001B[43mfillstyle\u001B[49m\u001B[38;5;241;43m=\u001B[39;49m\u001B[43mfillstyle\u001B[49m\u001B[43m)\u001B[49m\n\u001B[0;32m    279\u001B[0m \u001B[38;5;28mself\u001B[39m\u001B[38;5;241m.\u001B[39m_fillstyle \u001B[38;5;241m=\u001B[39m fillstyle\n\u001B[0;32m    280\u001B[0m \u001B[38;5;28mself\u001B[39m\u001B[38;5;241m.\u001B[39m_recache()\n",
      "File \u001B[1;32m~\\anaconda3\\envs\\BigData_Class_Ex\\lib\\site-packages\\matplotlib\\_api\\__init__.py:125\u001B[0m, in \u001B[0;36mcheck_in_list\u001B[1;34m(_values, _print_supported_values, **kwargs)\u001B[0m\n\u001B[0;32m    123\u001B[0m values \u001B[38;5;241m=\u001B[39m _values\n\u001B[0;32m    124\u001B[0m \u001B[38;5;28;01mfor\u001B[39;00m key, val \u001B[38;5;129;01min\u001B[39;00m kwargs\u001B[38;5;241m.\u001B[39mitems():\n\u001B[1;32m--> 125\u001B[0m     \u001B[38;5;28;01mif\u001B[39;00m \u001B[43mval\u001B[49m\u001B[43m \u001B[49m\u001B[38;5;129;43;01mnot\u001B[39;49;00m\u001B[43m \u001B[49m\u001B[38;5;129;43;01min\u001B[39;49;00m\u001B[43m \u001B[49m\u001B[43mvalues\u001B[49m:\n\u001B[0;32m    126\u001B[0m         msg \u001B[38;5;241m=\u001B[39m \u001B[38;5;124mf\u001B[39m\u001B[38;5;124m\"\u001B[39m\u001B[38;5;132;01m{\u001B[39;00mval\u001B[38;5;132;01m!r}\u001B[39;00m\u001B[38;5;124m is not a valid value for \u001B[39m\u001B[38;5;132;01m{\u001B[39;00mkey\u001B[38;5;132;01m}\u001B[39;00m\u001B[38;5;124m\"\u001B[39m\n\u001B[0;32m    127\u001B[0m         \u001B[38;5;28;01mif\u001B[39;00m _print_supported_values:\n",
      "\u001B[1;31mKeyboardInterrupt\u001B[0m: "
     ]
    }
   ],
   "source": [
    "players_df['nPA'] = (3 * players_df['3PA'] + 2 * players_df['2PA']) / players_df.G\n",
    "shots_distribution = players_df[['nPA', 'TbY']].groupby(players_df.TbY).std()\n",
    "norm_shots_distribution = 1 - (shots_distribution / np.linalg.norm(shots_distribution))\n",
    "# The large the std => the division of points in the team is smaller.\n",
    "plt.hist(norm_shots_distribution[tby_mask], bins=100)\n",
    "plt.title('Shots Distribution for a Team')\n",
    "plt.show()"
   ],
   "metadata": {
    "collapsed": false,
    "pycharm": {
     "name": "#%%\n"
    }
   }
  },
  {
   "cell_type": "code",
   "execution_count": null,
   "outputs": [],
   "source": [
    "efficiency_distribution = players_df[['PER', 'TbY']].groupby(players_df.TbY).std()\n",
    "norm_efficiency_distribution = 1 - (efficiency_distribution / np.linalg.norm(efficiency_distribution))\n",
    "# The large the std => the division of efficiency in the team is smaller.\n",
    "print(norm_minutes_distribution)\n",
    "print(efficiency_distribution.sort_values(by='PER'))\n",
    "plt.hist(norm_efficiency_distribution[tby_mask], bins=100)\n",
    "plt.title('Efficiency Distribution for a Team')\n",
    "plt.show()"
   ],
   "metadata": {
    "collapsed": false,
    "pycharm": {
     "name": "#%%\n"
    }
   }
  },
  {
   "cell_type": "code",
   "execution_count": 88,
   "outputs": [
    {
     "name": "stdout",
     "output_type": "stream",
     "text": [
      "               nED       nSD       nPD       nMD     AST\n",
      "TbY                                                     \n",
      "1980 LAL  0.970504  0.967234  0.962039  0.722585  2413.0\n",
      "1980 GSW  0.975583  0.973035  0.971795  0.795519  2028.0\n",
      "1980 PHO  0.978462  0.970360  0.965811  0.828410  2283.0\n",
      "1980 BOS  0.984455  0.972553  0.972148  0.772804  2198.0\n",
      "1980 CHI  0.981171  0.975989  0.972048  0.823408  2152.0\n",
      "...            ...       ...       ...       ...     ...\n",
      "2017 CHO  0.972623  0.967040  0.971782  0.799230  1891.0\n",
      "2017 BOS  0.969429  0.962413  0.963763  0.776330  2069.0\n",
      "2017 ORL  0.967511  0.968873  0.972348  0.786816  1820.0\n",
      "2017 CHI  0.969662  0.973891  0.972189  0.826794  1851.0\n",
      "2017 LAL  0.979675  0.973037  0.976607  0.849125  1716.0\n",
      "\n",
      "[17286 rows x 5 columns]\n"
     ]
    }
   ],
   "source": [
    "relevant_teams_df = pd.DataFrame({ \"nED\" : norm_efficiency_distribution.PER,\n",
    "                                   \"nSD\" : norm_shots_distribution.nPA,\n",
    "                                   \"nPD\" : norm_points_distribution.nPTS,\n",
    "                                   \"nMD\" : norm_minutes_distribution.MpGnorm,\n",
    "                                   \"AST\" : assists_by_team.AST }, index=players_df.TbY)\n",
    "print(relevant_teams_df)"
   ],
   "metadata": {
    "collapsed": false,
    "pycharm": {
     "name": "#%%\n"
    }
   }
  },
  {
   "cell_type": "code",
   "execution_count": 115,
   "outputs": [
    {
     "name": "stdout",
     "output_type": "stream",
     "text": [
      "['Boston Celtics' 'Boston Celtics*' 'Toronto Raptors' 'Toronto Raptors*'\n",
      " 'New York Knicks' 'New York Knicks*' 'Philadelphia 76ers'\n",
      " 'Philadelphia 76ers*' 'Syracuse Nationals*' 'Brooklyn Nets'\n",
      " 'Brooklyn Nets*' 'New Jersey Nets' 'New Jersey Nets*' 'New York Nets'\n",
      " 'New York Nets*' 'New Jersey Americans' 'Minnesota Timberwolves'\n",
      " 'Minnesota Timberwolves*' 'Oklahoma City Thunder'\n",
      " 'Oklahoma City Thunder*' 'Seattle SuperSonics' 'Seattle SuperSonics*'\n",
      " 'Denver Nuggets' 'Denver Nuggets*' 'Denver Rockets*'\n",
      " 'Portland Trail Blazers' 'Portland Trail Blazers*' 'Utah Jazz'\n",
      " 'Utah Jazz*' 'New Orleans Jazz' 'Cleveland Cavaliers'\n",
      " 'Cleveland Cavaliers*' 'Detroit Pistons' 'Detroit Pistons*'\n",
      " 'Fort Wayne Pistons*' 'Fort Wayne Pistons' 'Milwaukee Bucks'\n",
      " 'Milwaukee Bucks*' 'Indiana Pacers' 'Indiana Pacers*' 'Chicago Bulls'\n",
      " 'Chicago Bulls*' 'Golden State Warriors' 'Golden State Warriors*'\n",
      " 'San Francisco Warriors*' 'San Francisco Warriors'\n",
      " 'Philadelphia Warriors*' 'Philadelphia Warriors' 'Los Angeles Clippers'\n",
      " 'Los Angeles Clippers*' 'San Diego Clippers' 'Buffalo Braves'\n",
      " 'Buffalo Braves*' 'Phoenix Suns' 'Phoenix Suns*' 'Sacramento Kings'\n",
      " 'Sacramento Kings*' 'Kansas City Kings' 'Kansas City Kings*'\n",
      " 'Kansas City-Omaha Kings*' 'Kansas City-Omaha Kings' 'Cincinnati Royals'\n",
      " 'Cincinnati Royals*' 'Rochester Royals' 'Rochester Royals*'\n",
      " 'Los Angeles Lakers' 'Los Angeles Lakers*' 'Minneapolis Lakers*'\n",
      " 'Minneapolis Lakers' 'Washington Wizards' 'Washington Wizards*'\n",
      " 'Washington Bullets*' 'Washington Bullets' 'Capital Bullets*'\n",
      " 'Baltimore Bullets*' 'Baltimore Bullets' 'Chicago Zephyrs'\n",
      " 'Chicago Packers' 'Miami Heat' 'Miami Heat*' 'Charlotte Hornets'\n",
      " 'Charlotte Hornets*' 'Charlotte Bobcats*' 'Charlotte Bobcats'\n",
      " 'Orlando Magic' 'Orlando Magic*' 'Atlanta Hawks' 'Atlanta Hawks*'\n",
      " 'St. Louis Hawks*' 'St. Louis Hawks' 'Milwaukee Hawks'\n",
      " 'Tri-Cities Blackhawks' 'Tri-Cities Blackhawks*' 'Houston Rockets'\n",
      " 'Houston Rockets*' 'San Diego Rockets' 'San Diego Rockets*'\n",
      " 'San Antonio Spurs' 'San Antonio Spurs*' 'Dallas Chaparrals'\n",
      " 'Dallas Chaparrals*' 'Texas Chaparrals*' 'New Orleans Pelicans'\n",
      " 'New Orleans Pelicans*' 'New Orleans Hornets' 'New Orleans Hornets*'\n",
      " 'New Orleans/Oklahoma City Hornets' 'Dallas Mavericks'\n",
      " 'Dallas Mavericks*' 'Memphis Grizzlies' 'Memphis Grizzlies*'\n",
      " 'Vancouver Grizzlies']\n",
      "['FTW' 'INO' 'CHS' 'TOT' 'DNN' 'NYK' 'TRI' 'AND' 'PHW' 'WAT' 'SHE' 'ROC'\n",
      " 'BLB' 'MNL' 'SYR' 'WSC' 'BOS' 'STB' nan 'MLH' 'STL' 'DET' 'CIN' 'LAL'\n",
      " 'CHP' 'SFW' 'CHZ' 'BAL' 'PHI' 'CHI' 'SDR' 'SEA' 'MIL' 'ATL' 'PHO' 'POR'\n",
      " 'CLE' 'BUF' 'HOU' 'GSW' 'KCO' 'CAP' 'NOJ' 'WSB' 'KCK' 'IND' 'NYN' 'DEN'\n",
      " 'SAS' 'NJN' 'SDC' 'UTA' 'DAL' 'LAC' 'SAC' 'CHH' 'MIA' 'ORL' 'MIN' 'VAN'\n",
      " 'TOR' 'WAS' 'MEM' 'NOH' 'CHA' 'NOK' 'OKC' 'BRK' 'NOP' 'CHO']\n"
     ]
    },
    {
     "ename": "ValueError",
     "evalue": "No axis named LAL for object type DataFrame",
     "output_type": "error",
     "traceback": [
      "\u001B[1;31m---------------------------------------------------------------------------\u001B[0m",
      "\u001B[1;31mKeyError\u001B[0m                                  Traceback (most recent call last)",
      "File \u001B[1;32m~\\anaconda3\\envs\\BigData_Class_Ex\\lib\\site-packages\\pandas\\core\\generic.py:550\u001B[0m, in \u001B[0;36mNDFrame._get_axis_number\u001B[1;34m(cls, axis)\u001B[0m\n\u001B[0;32m    549\u001B[0m \u001B[38;5;28;01mtry\u001B[39;00m:\n\u001B[1;32m--> 550\u001B[0m     \u001B[38;5;28;01mreturn\u001B[39;00m \u001B[38;5;28;43mcls\u001B[39;49m\u001B[38;5;241;43m.\u001B[39;49m\u001B[43m_AXIS_TO_AXIS_NUMBER\u001B[49m\u001B[43m[\u001B[49m\u001B[43maxis\u001B[49m\u001B[43m]\u001B[49m\n\u001B[0;32m    551\u001B[0m \u001B[38;5;28;01mexcept\u001B[39;00m \u001B[38;5;167;01mKeyError\u001B[39;00m:\n",
      "\u001B[1;31mKeyError\u001B[0m: 'LAL'",
      "\nDuring handling of the above exception, another exception occurred:\n",
      "\u001B[1;31mValueError\u001B[0m                                Traceback (most recent call last)",
      "Input \u001B[1;32mIn [115]\u001B[0m, in \u001B[0;36m<cell line: 6>\u001B[1;34m()\u001B[0m\n\u001B[0;32m      4\u001B[0m \u001B[38;5;28mprint\u001B[39m(team_records\u001B[38;5;241m.\u001B[39mTeam\u001B[38;5;241m.\u001B[39munique())\n\u001B[0;32m      5\u001B[0m \u001B[38;5;28mprint\u001B[39m(season_stats\u001B[38;5;241m.\u001B[39mTm\u001B[38;5;241m.\u001B[39munique())\n\u001B[1;32m----> 6\u001B[0m \u001B[43mpd\u001B[49m\u001B[38;5;241;43m.\u001B[39;49m\u001B[43mSeries\u001B[49m\u001B[43m(\u001B[49m\u001B[43mrelevant_teams_df\u001B[49m\u001B[38;5;241;43m.\u001B[39;49m\u001B[43mindex\u001B[49m\u001B[43m)\u001B[49m\u001B[38;5;241;43m.\u001B[39;49m\u001B[43mapply\u001B[49m\u001B[43m(\u001B[49m\u001B[38;5;28;43;01mlambda\u001B[39;49;00m\u001B[43m \u001B[49m\u001B[43mteam\u001B[49m\u001B[43m:\u001B[49m\u001B[43m \u001B[49m\u001B[38;5;28;43mprint\u001B[39;49m\u001B[43m(\u001B[49m\u001B[43mteam_names\u001B[49m\u001B[38;5;241;43m.\u001B[39;49m\u001B[43mloc\u001B[49m\u001B[43m(\u001B[49m\u001B[43mteam\u001B[49m\u001B[43m[\u001B[49m\u001B[38;5;241;43m5\u001B[39;49m\u001B[43m:\u001B[49m\u001B[43m]\u001B[49m\u001B[43m)\u001B[49m\u001B[43m)\u001B[49m\u001B[43m)\u001B[49m\n",
      "File \u001B[1;32m~\\anaconda3\\envs\\BigData_Class_Ex\\lib\\site-packages\\pandas\\core\\series.py:4433\u001B[0m, in \u001B[0;36mSeries.apply\u001B[1;34m(self, func, convert_dtype, args, **kwargs)\u001B[0m\n\u001B[0;32m   4323\u001B[0m \u001B[38;5;28;01mdef\u001B[39;00m \u001B[38;5;21mapply\u001B[39m(\n\u001B[0;32m   4324\u001B[0m     \u001B[38;5;28mself\u001B[39m,\n\u001B[0;32m   4325\u001B[0m     func: AggFuncType,\n\u001B[1;32m   (...)\u001B[0m\n\u001B[0;32m   4328\u001B[0m     \u001B[38;5;241m*\u001B[39m\u001B[38;5;241m*\u001B[39mkwargs,\n\u001B[0;32m   4329\u001B[0m ) \u001B[38;5;241m-\u001B[39m\u001B[38;5;241m>\u001B[39m DataFrame \u001B[38;5;241m|\u001B[39m Series:\n\u001B[0;32m   4330\u001B[0m     \u001B[38;5;124;03m\"\"\"\u001B[39;00m\n\u001B[0;32m   4331\u001B[0m \u001B[38;5;124;03m    Invoke function on values of Series.\u001B[39;00m\n\u001B[0;32m   4332\u001B[0m \n\u001B[1;32m   (...)\u001B[0m\n\u001B[0;32m   4431\u001B[0m \u001B[38;5;124;03m    dtype: float64\u001B[39;00m\n\u001B[0;32m   4432\u001B[0m \u001B[38;5;124;03m    \"\"\"\u001B[39;00m\n\u001B[1;32m-> 4433\u001B[0m     \u001B[38;5;28;01mreturn\u001B[39;00m \u001B[43mSeriesApply\u001B[49m\u001B[43m(\u001B[49m\u001B[38;5;28;43mself\u001B[39;49m\u001B[43m,\u001B[49m\u001B[43m \u001B[49m\u001B[43mfunc\u001B[49m\u001B[43m,\u001B[49m\u001B[43m \u001B[49m\u001B[43mconvert_dtype\u001B[49m\u001B[43m,\u001B[49m\u001B[43m \u001B[49m\u001B[43margs\u001B[49m\u001B[43m,\u001B[49m\u001B[43m \u001B[49m\u001B[43mkwargs\u001B[49m\u001B[43m)\u001B[49m\u001B[38;5;241;43m.\u001B[39;49m\u001B[43mapply\u001B[49m\u001B[43m(\u001B[49m\u001B[43m)\u001B[49m\n",
      "File \u001B[1;32m~\\anaconda3\\envs\\BigData_Class_Ex\\lib\\site-packages\\pandas\\core\\apply.py:1082\u001B[0m, in \u001B[0;36mSeriesApply.apply\u001B[1;34m(self)\u001B[0m\n\u001B[0;32m   1078\u001B[0m \u001B[38;5;28;01mif\u001B[39;00m \u001B[38;5;28misinstance\u001B[39m(\u001B[38;5;28mself\u001B[39m\u001B[38;5;241m.\u001B[39mf, \u001B[38;5;28mstr\u001B[39m):\n\u001B[0;32m   1079\u001B[0m     \u001B[38;5;66;03m# if we are a string, try to dispatch\u001B[39;00m\n\u001B[0;32m   1080\u001B[0m     \u001B[38;5;28;01mreturn\u001B[39;00m \u001B[38;5;28mself\u001B[39m\u001B[38;5;241m.\u001B[39mapply_str()\n\u001B[1;32m-> 1082\u001B[0m \u001B[38;5;28;01mreturn\u001B[39;00m \u001B[38;5;28;43mself\u001B[39;49m\u001B[38;5;241;43m.\u001B[39;49m\u001B[43mapply_standard\u001B[49m\u001B[43m(\u001B[49m\u001B[43m)\u001B[49m\n",
      "File \u001B[1;32m~\\anaconda3\\envs\\BigData_Class_Ex\\lib\\site-packages\\pandas\\core\\apply.py:1137\u001B[0m, in \u001B[0;36mSeriesApply.apply_standard\u001B[1;34m(self)\u001B[0m\n\u001B[0;32m   1131\u001B[0m         values \u001B[38;5;241m=\u001B[39m obj\u001B[38;5;241m.\u001B[39mastype(\u001B[38;5;28mobject\u001B[39m)\u001B[38;5;241m.\u001B[39m_values\n\u001B[0;32m   1132\u001B[0m         \u001B[38;5;66;03m# error: Argument 2 to \"map_infer\" has incompatible type\u001B[39;00m\n\u001B[0;32m   1133\u001B[0m         \u001B[38;5;66;03m# \"Union[Callable[..., Any], str, List[Union[Callable[..., Any], str]],\u001B[39;00m\n\u001B[0;32m   1134\u001B[0m         \u001B[38;5;66;03m# Dict[Hashable, Union[Union[Callable[..., Any], str],\u001B[39;00m\n\u001B[0;32m   1135\u001B[0m         \u001B[38;5;66;03m# List[Union[Callable[..., Any], str]]]]]\"; expected\u001B[39;00m\n\u001B[0;32m   1136\u001B[0m         \u001B[38;5;66;03m# \"Callable[[Any], Any]\"\u001B[39;00m\n\u001B[1;32m-> 1137\u001B[0m         mapped \u001B[38;5;241m=\u001B[39m \u001B[43mlib\u001B[49m\u001B[38;5;241;43m.\u001B[39;49m\u001B[43mmap_infer\u001B[49m\u001B[43m(\u001B[49m\n\u001B[0;32m   1138\u001B[0m \u001B[43m            \u001B[49m\u001B[43mvalues\u001B[49m\u001B[43m,\u001B[49m\n\u001B[0;32m   1139\u001B[0m \u001B[43m            \u001B[49m\u001B[43mf\u001B[49m\u001B[43m,\u001B[49m\u001B[43m  \u001B[49m\u001B[38;5;66;43;03m# type: ignore[arg-type]\u001B[39;49;00m\n\u001B[0;32m   1140\u001B[0m \u001B[43m            \u001B[49m\u001B[43mconvert\u001B[49m\u001B[38;5;241;43m=\u001B[39;49m\u001B[38;5;28;43mself\u001B[39;49m\u001B[38;5;241;43m.\u001B[39;49m\u001B[43mconvert_dtype\u001B[49m\u001B[43m,\u001B[49m\n\u001B[0;32m   1141\u001B[0m \u001B[43m        \u001B[49m\u001B[43m)\u001B[49m\n\u001B[0;32m   1143\u001B[0m \u001B[38;5;28;01mif\u001B[39;00m \u001B[38;5;28mlen\u001B[39m(mapped) \u001B[38;5;129;01mand\u001B[39;00m \u001B[38;5;28misinstance\u001B[39m(mapped[\u001B[38;5;241m0\u001B[39m], ABCSeries):\n\u001B[0;32m   1144\u001B[0m     \u001B[38;5;66;03m# GH#43986 Need to do list(mapped) in order to get treated as nested\u001B[39;00m\n\u001B[0;32m   1145\u001B[0m     \u001B[38;5;66;03m#  See also GH#25959 regarding EA support\u001B[39;00m\n\u001B[0;32m   1146\u001B[0m     \u001B[38;5;28;01mreturn\u001B[39;00m obj\u001B[38;5;241m.\u001B[39m_constructor_expanddim(\u001B[38;5;28mlist\u001B[39m(mapped), index\u001B[38;5;241m=\u001B[39mobj\u001B[38;5;241m.\u001B[39mindex)\n",
      "File \u001B[1;32m~\\anaconda3\\envs\\BigData_Class_Ex\\lib\\site-packages\\pandas\\_libs\\lib.pyx:2870\u001B[0m, in \u001B[0;36mpandas._libs.lib.map_infer\u001B[1;34m()\u001B[0m\n",
      "Input \u001B[1;32mIn [115]\u001B[0m, in \u001B[0;36m<lambda>\u001B[1;34m(team)\u001B[0m\n\u001B[0;32m      4\u001B[0m \u001B[38;5;28mprint\u001B[39m(team_records\u001B[38;5;241m.\u001B[39mTeam\u001B[38;5;241m.\u001B[39munique())\n\u001B[0;32m      5\u001B[0m \u001B[38;5;28mprint\u001B[39m(season_stats\u001B[38;5;241m.\u001B[39mTm\u001B[38;5;241m.\u001B[39munique())\n\u001B[1;32m----> 6\u001B[0m pd\u001B[38;5;241m.\u001B[39mSeries(relevant_teams_df\u001B[38;5;241m.\u001B[39mindex)\u001B[38;5;241m.\u001B[39mapply(\u001B[38;5;28;01mlambda\u001B[39;00m team: \u001B[38;5;28mprint\u001B[39m(\u001B[43mteam_names\u001B[49m\u001B[38;5;241;43m.\u001B[39;49m\u001B[43mloc\u001B[49m\u001B[43m(\u001B[49m\u001B[43mteam\u001B[49m\u001B[43m[\u001B[49m\u001B[38;5;241;43m5\u001B[39;49m\u001B[43m:\u001B[49m\u001B[43m]\u001B[49m\u001B[43m)\u001B[49m))\n",
      "File \u001B[1;32m~\\anaconda3\\envs\\BigData_Class_Ex\\lib\\site-packages\\pandas\\core\\indexing.py:634\u001B[0m, in \u001B[0;36m_LocationIndexer.__call__\u001B[1;34m(self, axis)\u001B[0m\n\u001B[0;32m    631\u001B[0m new_self \u001B[38;5;241m=\u001B[39m \u001B[38;5;28mtype\u001B[39m(\u001B[38;5;28mself\u001B[39m)(\u001B[38;5;28mself\u001B[39m\u001B[38;5;241m.\u001B[39mname, \u001B[38;5;28mself\u001B[39m\u001B[38;5;241m.\u001B[39mobj)\n\u001B[0;32m    633\u001B[0m \u001B[38;5;28;01mif\u001B[39;00m axis \u001B[38;5;129;01mis\u001B[39;00m \u001B[38;5;129;01mnot\u001B[39;00m \u001B[38;5;28;01mNone\u001B[39;00m:\n\u001B[1;32m--> 634\u001B[0m     axis \u001B[38;5;241m=\u001B[39m \u001B[38;5;28;43mself\u001B[39;49m\u001B[38;5;241;43m.\u001B[39;49m\u001B[43mobj\u001B[49m\u001B[38;5;241;43m.\u001B[39;49m\u001B[43m_get_axis_number\u001B[49m\u001B[43m(\u001B[49m\u001B[43maxis\u001B[49m\u001B[43m)\u001B[49m\n\u001B[0;32m    635\u001B[0m new_self\u001B[38;5;241m.\u001B[39maxis \u001B[38;5;241m=\u001B[39m axis\n\u001B[0;32m    636\u001B[0m \u001B[38;5;28;01mreturn\u001B[39;00m new_self\n",
      "File \u001B[1;32m~\\anaconda3\\envs\\BigData_Class_Ex\\lib\\site-packages\\pandas\\core\\generic.py:552\u001B[0m, in \u001B[0;36mNDFrame._get_axis_number\u001B[1;34m(cls, axis)\u001B[0m\n\u001B[0;32m    550\u001B[0m     \u001B[38;5;28;01mreturn\u001B[39;00m \u001B[38;5;28mcls\u001B[39m\u001B[38;5;241m.\u001B[39m_AXIS_TO_AXIS_NUMBER[axis]\n\u001B[0;32m    551\u001B[0m \u001B[38;5;28;01mexcept\u001B[39;00m \u001B[38;5;167;01mKeyError\u001B[39;00m:\n\u001B[1;32m--> 552\u001B[0m     \u001B[38;5;28;01mraise\u001B[39;00m \u001B[38;5;167;01mValueError\u001B[39;00m(\u001B[38;5;124mf\u001B[39m\u001B[38;5;124m\"\u001B[39m\u001B[38;5;124mNo axis named \u001B[39m\u001B[38;5;132;01m{\u001B[39;00maxis\u001B[38;5;132;01m}\u001B[39;00m\u001B[38;5;124m for object type \u001B[39m\u001B[38;5;132;01m{\u001B[39;00m\u001B[38;5;28mcls\u001B[39m\u001B[38;5;241m.\u001B[39m\u001B[38;5;18m__name__\u001B[39m\u001B[38;5;132;01m}\u001B[39;00m\u001B[38;5;124m\"\u001B[39m)\n",
      "\u001B[1;31mValueError\u001B[0m: No axis named LAL for object type DataFrame"
     ]
    }
   ],
   "source": [
    "team_names = pd.read_csv('Team_Names.csv')\n",
    "team_records = pd.read_csv('Team_Records.csv')\n",
    "team_names = team_names.set_index(team_names.Short).drop(columns=['Short'])\n",
    "print(team_records.Team.unique())\n",
    "print(season_stats.Tm.unique())\n",
    "pd.Series(relevant_teams_df.index).apply(lambda team: print(team_names.loc(team[5:])))"
   ],
   "metadata": {
    "collapsed": false,
    "pycharm": {
     "name": "#%%\n"
    }
   }
  },
  {
   "cell_type": "code",
   "execution_count": null,
   "outputs": [],
   "source": [],
   "metadata": {
    "collapsed": false,
    "pycharm": {
     "name": "#%%\n"
    }
   }
  }
 ],
 "metadata": {
  "kernelspec": {
   "display_name": "Python 3",
   "language": "python",
   "name": "python3"
  },
  "language_info": {
   "codemirror_mode": {
    "name": "ipython",
    "version": 2
   },
   "file_extension": ".py",
   "mimetype": "text/x-python",
   "name": "python",
   "nbconvert_exporter": "python",
   "pygments_lexer": "ipython2",
   "version": "2.7.6"
  }
 },
 "nbformat": 4,
 "nbformat_minor": 0
}