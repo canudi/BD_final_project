{
 "cells": [
  {
   "cell_type": "code",
   "execution_count": 8,
   "outputs": [
    {
     "name": "stdout",
     "output_type": "stream",
     "text": [
      "        Tm    Year    AST      MP     PTS   3PA     2PA   PER     G       TbY\n",
      "5727   LAL  1980.0  371.0  3143.0  2034.0   1.0  1382.0  25.3  82.0  1980 LAL\n",
      "5728   GSW  1980.0   87.0  1222.0   362.0   1.0   317.0  11.0  67.0  1980 GSW\n",
      "5729   PHO  1980.0  322.0  2168.0  1118.0   2.0   873.0  19.2  75.0  1980 PHO\n",
      "5730   BOS  1980.0  671.0  2864.0  1131.0  18.0   776.0  15.3  80.0  1980 BOS\n",
      "5731   CHI  1980.0   40.0   560.0    86.0   0.0    60.0   7.4  26.0  1980 CHI\n",
      "...    ...     ...    ...     ...     ...   ...     ...   ...   ...       ...\n",
      "24686  CHO  2017.0   99.0  1725.0   639.0   1.0   442.0  16.7  62.0  2017 CHO\n",
      "24687  BOS  2017.0   42.0   525.0   178.0   1.0   157.0  13.0  51.0  2017 BOS\n",
      "24688  ORL  2017.0    4.0   108.0    23.0   0.0    31.0   7.3  19.0  2017 ORL\n",
      "24689  CHI  2017.0   36.0   843.0   240.0  99.0   122.0   6.9  44.0  2017 CHI\n",
      "24690  LAL  2017.0   30.0   609.0   284.0   3.0   235.0  17.0  38.0  2017 LAL\n",
      "\n",
      "[17286 rows x 10 columns]\n"
     ]
    }
   ],
   "source": [
    "import pandas as pd\n",
    "import matplotlib.pyplot as plt\n",
    "import numpy as np\n",
    "\n",
    "season_stats = pd.read_csv('Seasons_Stats.csv')\n",
    "\n",
    "\"\"\" Structuring a DataFrame of aspects that imply a team plays a \"\"\"\n",
    "\n",
    "# team_playing_stats = season_stats.loc['Year', 'Tm', 'MP', 'PER', 'AST', 'AST%', 'USG%', 'PTS', '3PA', '2PA', 'PF']\n",
    "\"\"\" build normalized series for each interesting column \"\"\"\n",
    "players_df = season_stats[['Tm', 'Year', 'AST', 'MP', 'PTS', '3PA', '2PA', 'PER', 'G']].dropna()\n",
    "TOT_mask = players_df.Tm == 'TOT'           # the sum of stats for a player that played for more than 1 team\n",
    "players_df = players_df[~TOT_mask]\n",
    "players_df['TbY'] = players_df.Year.astype(int).apply(lambda name: str(name)) + ' ' + players_df.Tm\n",
    "print(players_df)"
   ],
   "metadata": {
    "collapsed": false,
    "pycharm": {
     "name": "#%%\n"
    }
   }
  },
  {
   "cell_type": "code",
   "execution_count": null,
   "outputs": [],
   "source": [
    "\"\"\"\n",
    "build team_playing_by_team DF with normalized series for each interesting column by team - X matrix:\n",
    "    AST -   sum\n",
    "    MP  -   distribution - nuschat motivation: 1 - normalized std\n",
    "    PTS -   distribution\n",
    "    PA  -   distribution\n",
    "    PF  -   distribution\n",
    "index - <season>_<team_name>\n",
    "\"\"\"\n",
    "\n",
    "\"\"\" maybe - check correlation between the columns in X \"\"\"\n",
    "\n",
    "\"\"\" build y series - team success for each season \"\"\"\n",
    "\n",
    "\"\"\" check correlation for each colum in X with y \"\"\"\n",
    "\n",
    "\"\"\" hypothesis testing \"\"\"\n",
    "\n",
    "\"\"\" try building a ML model to predict success - try to minimize error rate \"\"\"\n"
   ],
   "metadata": {
    "collapsed": false,
    "pycharm": {
     "name": "#%%\n"
    }
   }
  },
  {
   "cell_type": "code",
   "execution_count": 9,
   "outputs": [
    {
     "data": {
      "text/plain": "<Figure size 432x288 with 1 Axes>",
      "image/png": "[encoded data removed]"
     },
     "metadata": {
      "needs_background": "light"
     },
     "output_type": "display_data"
    }
   ],
   "source": [
    "assists_by_team = players_df[['AST', 'TbY']].groupby(players_df.TbY).sum()\n",
    "tby_mask = (players_df.groupby(players_df.TbY).count() > 13).Tm     # a team must have at least 14 players with data\n",
    "plt.hist(assists_by_team[tby_mask], bins=100)\n",
    "plt.title('Assists for a Team Distribution')\n",
    "plt.show()\n"
   ],
   "metadata": {
    "collapsed": false,
    "pycharm": {
     "name": "#%%\n"
    }
   }
  },
  {
   "cell_type": "code",
   "execution_count": 10,
   "outputs": [
    {
     "data": {
      "text/plain": "<Figure size 432x288 with 1 Axes>",
      "image/png": "[encoded data removed]"
     },
     "metadata": {
      "needs_background": "light"
     },
     "output_type": "display_data"
    }
   ],
   "source": [
    "players_df['MpGnorm'] = players_df['MP'] / (players_df['G'] * 48)\n",
    "norm_minutes_distribution = 1 - players_df[['MpGnorm', 'TbY']].groupby(players_df.TbY).std()\n",
    "# The large the std => the division of minutes in the team is smaller.\n",
    "plt.hist(norm_minutes_distribution[tby_mask], bins=100)\n",
    "plt.title('Minutes Distribution for a Team')\n",
    "plt.show()"
   ],
   "metadata": {
    "collapsed": false,
    "pycharm": {
     "name": "#%%\n"
    }
   }
  },
  {
   "cell_type": "code",
   "execution_count": 11,
   "outputs": [
    {
     "data": {
      "text/plain": "<Figure size 432x288 with 1 Axes>",
      "image/png": "[encoded data removed]"
     },
     "metadata": {
      "needs_background": "light"
     },
     "output_type": "display_data"
    }
   ],
   "source": [
    "players_df['nPTS'] = players_df.PTS / players_df.G\n",
    "points_distribution = players_df[['nPTS', 'TbY']].groupby(players_df.TbY).std()\n",
    "norm_points_distribution = 1 - (points_distribution / np.linalg.norm(points_distribution))\n",
    "# The large the std => the division of points in the team is smaller.\n",
    "plt.hist(norm_points_distribution[tby_mask], bins=100)\n",
    "plt.title('Points Distribution for a Team')\n",
    "plt.show()"
   ],
   "metadata": {
    "collapsed": false,
    "pycharm": {
     "name": "#%%\n"
    }
   }
  },
  {
   "cell_type": "code",
   "execution_count": 12,
   "outputs": [
    {
     "data": {
      "text/plain": "<Figure size 432x288 with 1 Axes>",
      "image/png": "[encoded data removed]"
     },
     "metadata": {
      "needs_background": "light"
     },
     "output_type": "display_data"
    }
   ],
   "source": [
    "players_df['nPA'] = (3 * players_df['3PA'] + 2 * players_df['2PA']) / players_df.G\n",
    "shots_distribution = players_df[['nPA', 'TbY']].groupby(players_df.TbY).std()\n",
    "norm_shots_distribution = 1 - (shots_distribution / np.linalg.norm(shots_distribution))\n",
    "# The large the std => the division of points in the team is smaller.\n",
    "plt.hist(norm_shots_distribution[tby_mask], bins=100)\n",
    "plt.title('Shots Distribution for a Team')\n",
    "plt.show()"
   ],
   "metadata": {
    "collapsed": false,
    "pycharm": {
     "name": "#%%\n"
    }
   }
  },
  {
   "cell_type": "code",
   "execution_count": 21,
   "outputs": [
    {
     "name": "stdout",
     "output_type": "stream",
     "text": [
      "TbY\n",
      "1980 ATL     True\n",
      "1980 BOS    False\n",
      "1980 CHI     True\n",
      "1980 CLE     True\n",
      "1980 DEN     True\n",
      "            ...  \n",
      "2017 SAC     True\n",
      "2017 SAS     True\n",
      "2017 TOR     True\n",
      "2017 UTA     True\n",
      "2017 WAS     True\n",
      "Name: Tm, Length: 1044, dtype: bool\n"
     ]
    }
   ],
   "source": [
    "print(tby_mask)"
   ],
   "metadata": {
    "collapsed": false,
    "pycharm": {
     "name": "#%%\n"
    }
   }
  },
  {
   "cell_type": "code",
   "execution_count": 20,
   "outputs": [
    {
     "name": "stdout",
     "output_type": "stream",
     "text": [
      "                PER\n",
      "TbY                \n",
      "1984 CHI   2.254113\n",
      "2002 WAS   2.456892\n",
      "1992 NJN   2.570543\n",
      "1993 SAC   2.573422\n",
      "2001 WAS   2.580338\n",
      "...             ...\n",
      "2006 DEN  18.218071\n",
      "1999 DEN  18.392851\n",
      "2005 NYK  19.511366\n",
      "1999 NJN  22.112726\n",
      "2014 MIA  27.675574\n",
      "\n",
      "[1044 rows x 1 columns]\n"
     ]
    },
    {
     "data": {
      "text/plain": "<Figure size 432x288 with 1 Axes>",
      "image/png": "[encoded data removed]"
     },
     "metadata": {
      "needs_background": "light"
     },
     "output_type": "display_data"
    }
   ],
   "source": [
    "efficiency_distribution = players_df[['PER', 'TbY']].groupby(players_df.TbY).std()\n",
    "norm_efficiency_distribution = efficiency_distribution / np.linalg.norm(efficiency_distribution)\n",
    "# The large the std => the division of efficiency in the team is smaller.\n",
    "# print(norm_minutes_distribution)\n",
    "print(efficiency_distribution.sort_values(by='PER'))\n",
    "plt.hist(norm_efficiency_distribution[tby_mask], bins=100)\n",
    "plt.title('Efficiency Distribution for a Team')\n",
    "plt.show()"
   ],
   "metadata": {
    "collapsed": false,
    "pycharm": {
     "name": "#%%\n"
    }
   }
  },
  {
   "cell_type": "code",
   "execution_count": 34,
   "outputs": [
    {
     "name": "stdout",
     "output_type": "stream",
     "text": [
      "               nED       nSD       nPD       nMD     AST\n",
      "TbY                                                     \n",
      "1980 ATL  0.027840  0.975730  0.971679  0.840058  1913.0\n",
      "1980 CHI  0.018829  0.975989  0.972048  0.823408  2152.0\n",
      "1980 CLE  0.026566  0.971467  0.968778  0.802178  2108.0\n",
      "1980 DEN  0.021879  0.968642  0.965041  0.803798  2079.0\n",
      "1980 DET  0.016981  0.972004  0.971225  0.818747  1950.0\n",
      "...            ...       ...       ...       ...     ...\n",
      "2017 SAC  0.021022  0.972533  0.971700  0.866913  1844.0\n",
      "2017 SAS  0.026304  0.970016  0.969004  0.822827  1954.0\n",
      "2017 TOR  0.022826  0.966100  0.965165  0.806817  1517.0\n",
      "2017 UTA  0.024362  0.972074  0.971975  0.809557  1651.0\n",
      "2017 WAS  0.025793  0.963857  0.964890  0.766324  1956.0\n",
      "\n",
      "[958 rows x 5 columns]\n"
     ]
    }
   ],
   "source": [
    "relevant_teams_df = pd.DataFrame({ \"nED\" : norm_efficiency_distribution.PER,\n",
    "                                   \"nSD\" : norm_shots_distribution.nPA,\n",
    "                                   \"nPD\" : norm_points_distribution.nPTS,\n",
    "                                   \"nMD\" : norm_minutes_distribution.MpGnorm,\n",
    "                                   \"AST\" : assists_by_team.AST })\n",
    "print(relevant_teams_df[tby_mask])"
   ],
   "metadata": {
    "collapsed": false,
    "pycharm": {
     "name": "#%%\n"
    }
   }
  },
  {
   "cell_type": "code",
   "execution_count": 49,
   "outputs": [
    {
     "name": "stdout",
     "output_type": "stream",
     "text": [
      "full = (1074, 19)\n",
      "(1065, 19)\n"
     ]
    }
   ],
   "source": [
    "team_records = pd.read_csv('Team_Records.csv')\n",
    "team_records = team_records[team_records.Season > '1979']\n",
    "\n",
    "def union_star(name):\n",
    "    if name.endswith('*'):\n",
    "        return name[:-1]\n",
    "    return name\n",
    "\n",
    "team_records['uNAME'] = team_records.Team.apply(lambda name: union_star(name))\n",
    "team_names = pd.read_csv('Team_Names.csv')\n",
    "\n",
    "def find_team(name):\n",
    "    try:\n",
    "        nn = team_names[team_names.Long == name].Short\n",
    "        if nn.size == 1:\n",
    "            return team_names[team_names.Long == name].Short.values[0]\n",
    "        return 'NOT'\n",
    "    except KeyError:\n",
    "        return 'NOT'\n",
    "\n",
    "team_records['NN'] = team_records.uNAME.apply(lambda name: find_team(name))\n",
    "print(f'full = {team_records.shape}')\n",
    "print(team_records[team_records.NN != 'NOT'].shape)\n",
    "\n",
    "relevant_teams_df['Team'] = pd.Series(relevant_teams_df.index).apply(lambda name: name.split()[1])\n",
    "relevant_teams_df['Season'] = pd.Series(relevant_teams_df.index).apply(lambda name: name.split()[0])\n",
    "\n",
    "\n",
    "\n",
    "\n",
    "\n",
    "# team_names = team_names.set_index(team_names.Short).drop(columns=['Short'])\n",
    "# print(team_records.Team.unique())\n",
    "# print(season_stats.Tm.unique())\n",
    "# pd.Series(relevant_teams_df.index).apply(lambda team: print(team_names.loc(team[5:])))"
   ],
   "metadata": {
    "collapsed": false,
    "pycharm": {
     "name": "#%%\n"
    }
   }
  },
  {
   "cell_type": "code",
   "execution_count": null,
   "outputs": [],
   "source": [],
   "metadata": {
    "collapsed": false,
    "pycharm": {
     "name": "#%%\n"
    }
   }
  },
  {
   "cell_type": "code",
   "execution_count": null,
   "outputs": [],
   "source": [],
   "metadata": {
    "collapsed": false,
    "pycharm": {
     "name": "#%%\n"
    }
   }
  }
 ],
 "metadata": {
  "kernelspec": {
   "display_name": "Python 3",
   "language": "python",
   "name": "python3"
  },
  "language_info": {
   "codemirror_mode": {
    "name": "ipython",
    "version": 2
   },
   "file_extension": ".py",
   "mimetype": "text/x-python",
   "name": "python",
   "nbconvert_exporter": "python",
   "pygments_lexer": "ipython2",
   "version": "2.7.6"
  }
 },
 "nbformat": 4,
 "nbformat_minor": 0
}