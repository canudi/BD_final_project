{
 "cells": [
  {
   "cell_type": "code",
   "execution_count": 6,
   "outputs": [
    {
     "name": "stdout",
     "output_type": "stream",
     "text": [
      "        Tm    Year    AST      MP     PTS   3PA     2PA   PER     G       TbY\n",
      "5727   LAL  1980.0  371.0  3143.0  2034.0   1.0  1382.0  25.3  82.0  1980 LAL\n",
      "5728   GSW  1980.0   87.0  1222.0   362.0   1.0   317.0  11.0  67.0  1980 GSW\n",
      "5729   PHO  1980.0  322.0  2168.0  1118.0   2.0   873.0  19.2  75.0  1980 PHO\n",
      "5730   BOS  1980.0  671.0  2864.0  1131.0  18.0   776.0  15.3  80.0  1980 BOS\n",
      "5731   CHI  1980.0   40.0   560.0    86.0   0.0    60.0   7.4  26.0  1980 CHI\n",
      "...    ...     ...    ...     ...     ...   ...     ...   ...   ...       ...\n",
      "24686  CHO  2017.0   99.0  1725.0   639.0   1.0   442.0  16.7  62.0  2017 CHO\n",
      "24687  BOS  2017.0   42.0   525.0   178.0   1.0   157.0  13.0  51.0  2017 BOS\n",
      "24688  ORL  2017.0    4.0   108.0    23.0   0.0    31.0   7.3  19.0  2017 ORL\n",
      "24689  CHI  2017.0   36.0   843.0   240.0  99.0   122.0   6.9  44.0  2017 CHI\n",
      "24690  LAL  2017.0   30.0   609.0   284.0   3.0   235.0  17.0  38.0  2017 LAL\n",
      "\n",
      "[17286 rows x 10 columns]\n"
     ]
    }
   ],
   "source": [
    "import pandas as pd\n",
    "import matplotlib.pyplot as plt\n",
    "import numpy as np\n",
    "\n",
    "season_stats = pd.read_csv('Seasons_Stats.csv')\n",
    "\n",
    "\"\"\" Structuring a DataFrame of aspects that imply a team plays a \"\"\"\n",
    "\n",
    "# team_playing_stats = season_stats.loc['Year', 'Tm', 'MP', 'PER', 'AST', 'AST%', 'USG%', 'PTS', '3PA', '2PA', 'PF']\n",
    "\"\"\" build normalized series for each interesting column \"\"\"\n",
    "players_df = season_stats[['Tm', 'Year', 'AST', 'MP', 'PTS', '3PA', '2PA', 'PER', 'G']].dropna()\n",
    "TOT_mask = players_df.Tm == 'TOT'           # the sum of stats for a player that played for more than 1 team\n",
    "players_df = players_df[~TOT_mask]\n",
    "players_df['TbY'] = players_df.Year.astype(int).apply(lambda name: str(name)) + ' ' + players_df.Tm\n",
    "print(players_df)"
   ],
   "metadata": {
    "collapsed": false,
    "pycharm": {
     "name": "#%%\n"
    }
   }
  },
  {
   "cell_type": "code",
   "execution_count": 7,
   "outputs": [
    {
     "data": {
      "text/plain": "<Figure size 432x288 with 1 Axes>",
      "image/png": "[encoded data removed]"
     },
     "metadata": {
      "needs_background": "light"
     },
     "output_type": "display_data"
    },
    {
     "data": {
      "text/plain": "' try building a ML model to predict success - try to minimize error rate '"
     },
     "execution_count": 7,
     "metadata": {},
     "output_type": "execute_result"
    }
   ],
   "source": [
    "assists_by_team = players_df[['AST', 'TbY']].groupby(players_df.TbY).sum()\n",
    "tby_mask = (players_df.groupby(players_df.TbY).count() > 13).Tm     # a team must have at least 14 players with data\n",
    "plt.hist(assists_by_team[tby_mask], bins=100)\n",
    "plt.title('Assists for a Team Distribution')\n",
    "plt.show()\n",
    "# print(players_df)\n",
    "# TODO - there are teams with very large number of total assists - check if it makes sense\n",
    "# maybe plot a histogram of assists_by_team\n",
    "# print(assists_by_team[tby_mask].sort_values('AST'))\n",
    "\n",
    "\n",
    "\"\"\"\n",
    "build team_playing_by_team DF with normalized series for each interesting column by team - X matrix:\n",
    "    AST -   sum\n",
    "    MP  -   distribution - nuschat motivation: 1 - normalized std\n",
    "    PTS -   distribution\n",
    "    PA  -   distribution\n",
    "    PF  -   distribution\n",
    "index - <season>_<team_name>\n",
    "\"\"\"\n",
    "\n",
    "\"\"\" maybe - check correlation between the columns in X \"\"\"\n",
    "\n",
    "\"\"\" build y series - team success for each season \"\"\"\n",
    "\n",
    "\"\"\" check correlation for each colum in X with y \"\"\"\n",
    "\n",
    "\"\"\" hypothesis testing \"\"\"\n",
    "\n",
    "\"\"\" try building a ML model to predict success - try to minimize error rate \"\"\"\n",
    "\n",
    "\n"
   ],
   "metadata": {
    "collapsed": false,
    "pycharm": {
     "name": "#%%\n"
    }
   }
  },
  {
   "cell_type": "code",
   "execution_count": 10,
   "outputs": [
    {
     "data": {
      "text/plain": "<Figure size 432x288 with 1 Axes>",
      "image/png": "[encoded data removed]"
     },
     "metadata": {
      "needs_background": "light"
     },
     "output_type": "display_data"
    }
   ],
   "source": [
    "players_df['MpGnorm'] = players_df['MP'] / (players_df['G'] * 48)\n",
    "minutes_distribution = 1 - players_df[['MpGnorm', 'TbY']].groupby(players_df.TbY).std()\n",
    "# The large the std => the division of minutes in the team is smaller.\n",
    "plt.hist(minutes_distribution[tby_mask], bins=50)\n",
    "plt.title('Minutes Distribution for a Team')\n",
    "plt.show()"
   ],
   "metadata": {
    "collapsed": false,
    "pycharm": {
     "name": "#%%\n"
    }
   }
  },
  {
   "cell_type": "code",
   "execution_count": 13,
   "outputs": [
    {
     "data": {
      "text/plain": "<Figure size 432x288 with 1 Axes>",
      "image/png": "[encoded data removed]"
     },
     "metadata": {
      "needs_background": "light"
     },
     "output_type": "display_data"
    }
   ],
   "source": [
    "points_distribution = players_df[['PTS', 'TbY']].groupby(players_df.TbY).std()\n",
    "norm_points_distribution = points_distribution / np.linalg.norm(points_distribution)\n",
    "# The large the std => the division of minutes in the team is smaller.\n",
    "plt.hist(norm_points_distribution[tby_mask], bins=50)\n",
    "plt.title('Points Distribution for a Team')\n",
    "plt.show()"
   ],
   "metadata": {
    "collapsed": false,
    "pycharm": {
     "name": "#%%\n"
    }
   }
  },
  {
   "cell_type": "code",
   "execution_count": 660,
   "outputs": [
    {
     "name": "stdout",
     "output_type": "stream",
     "text": [
      "      Unnamed: 0             Player  height  weight  \\\n",
      "0              0    Curly Armstrong   180.0    77.0   \n",
      "1              1       Cliff Barker   188.0    83.0   \n",
      "2              2      Leo Barnhorst   193.0    86.0   \n",
      "3              3         Ed Bartels   196.0    88.0   \n",
      "4              4        Ralph Beard   178.0    79.0   \n",
      "...          ...                ...     ...     ...   \n",
      "3917        3917      Troy Williams   198.0    97.0   \n",
      "3918        3918       Kyle Wiltjer   208.0   108.0   \n",
      "3919        3919  Stephen Zimmerman   213.0   108.0   \n",
      "3920        3920        Paul Zipser   203.0    97.0   \n",
      "3921        3921        Ivica Zubac   216.0   120.0   \n",
      "\n",
      "                              collage    born      birth_city  \\\n",
      "0                  Indiana University  1918.0             NaN   \n",
      "1              University of Kentucky  1921.0        Yorktown   \n",
      "2            University of Notre Dame  1924.0             NaN   \n",
      "3     North Carolina State University  1925.0             NaN   \n",
      "4              University of Kentucky  1927.0     Hardinsburg   \n",
      "...                               ...     ...             ...   \n",
      "3917  South Carolina State University  1969.0        Columbia   \n",
      "3918               Gonzaga University  1992.0        Portland   \n",
      "3919  University of Nevada, Las Vegas  1996.0  Hendersonville   \n",
      "3920                              NaN  1994.0      Heidelberg   \n",
      "3921                              NaN  1997.0          Mostar   \n",
      "\n",
      "                 birth_state  \n",
      "0                        NaN  \n",
      "1                    Indiana  \n",
      "2                        NaN  \n",
      "3                        NaN  \n",
      "4                   Kentucky  \n",
      "...                      ...  \n",
      "3917          South Carolina  \n",
      "3918                  Oregon  \n",
      "3919               Tennessee  \n",
      "3920                 Germany  \n",
      "3921  Bosnia and Herzegovina  \n",
      "\n",
      "[3922 rows x 8 columns]\n"
     ]
    }
   ],
   "source": [
    "players = pd.read_csv('Players.csv')\n",
    "print(players)"
   ],
   "metadata": {
    "collapsed": false,
    "pycharm": {
     "name": "#%%\n"
    }
   }
  },
  {
   "cell_type": "code",
   "execution_count": 661,
   "outputs": [
    {
     "name": "stdout",
     "output_type": "stream",
     "text": [
      "                     name  year_start  year_end position height  weight  \\\n",
      "0          Alaa Abdelnaby        1991      1995      F-C   6-10   240.0   \n",
      "1         Zaid Abdul-Aziz        1969      1978      C-F    6-9   235.0   \n",
      "2     Kareem Abdul-Jabbar        1970      1989        C    7-2   225.0   \n",
      "3      Mahmoud Abdul-Rauf        1991      2001        G    6-1   162.0   \n",
      "4       Tariq Abdul-Wahad        1998      2003        F    6-6   223.0   \n",
      "...                   ...         ...       ...      ...    ...     ...   \n",
      "4545           Ante Zizic        2018      2018      F-C   6-11   250.0   \n",
      "4546             Jim Zoet        1983      1983        C    7-1   240.0   \n",
      "4547            Bill Zopf        1971      1971        G    6-1   170.0   \n",
      "4548          Ivica Zubac        2017      2018        C    7-1   265.0   \n",
      "4549           Matt Zunic        1949      1949      G-F    6-3   195.0   \n",
      "\n",
      "             birth_date                                college  \n",
      "0         June 24, 1968                        Duke University  \n",
      "1         April 7, 1946                  Iowa State University  \n",
      "2        April 16, 1947  University of California, Los Angeles  \n",
      "3         March 9, 1969             Louisiana State University  \n",
      "4      November 3, 1974              San Jose State University  \n",
      "...                 ...                                    ...  \n",
      "4545    January 4, 1997                                    NaN  \n",
      "4546  December 20, 1953                  Kent State University  \n",
      "4547       June 7, 1948                    Duquesne University  \n",
      "4548     March 18, 1997                                    NaN  \n",
      "4549  December 19, 1919           George Washington University  \n",
      "\n",
      "[4550 rows x 8 columns]\n"
     ]
    }
   ],
   "source": [
    "player_data = pd.read_csv('player_data.csv')\n",
    "print(player_data)"
   ],
   "metadata": {
    "collapsed": false,
    "pycharm": {
     "name": "#%%\n"
    }
   }
  },
  {
   "cell_type": "code",
   "execution_count": 661,
   "outputs": [],
   "source": [],
   "metadata": {
    "collapsed": false,
    "pycharm": {
     "name": "#%%\n"
    }
   }
  },
  {
   "cell_type": "code",
   "execution_count": 662,
   "outputs": [
    {
     "name": "stdout",
     "output_type": "stream",
     "text": [
      "      Unnamed: 0             Player  height  weight  \\\n",
      "0              0    Curly Armstrong   180.0    77.0   \n",
      "1              1       Cliff Barker   188.0    83.0   \n",
      "2              2      Leo Barnhorst   193.0    86.0   \n",
      "3              3         Ed Bartels   196.0    88.0   \n",
      "4              4        Ralph Beard   178.0    79.0   \n",
      "...          ...                ...     ...     ...   \n",
      "3917        3917      Troy Williams   198.0    97.0   \n",
      "3918        3918       Kyle Wiltjer   208.0   108.0   \n",
      "3919        3919  Stephen Zimmerman   213.0   108.0   \n",
      "3920        3920        Paul Zipser   203.0    97.0   \n",
      "3921        3921        Ivica Zubac   216.0   120.0   \n",
      "\n",
      "                              collage    born      birth_city  \\\n",
      "0                  Indiana University  1918.0             NaN   \n",
      "1              University of Kentucky  1921.0        Yorktown   \n",
      "2            University of Notre Dame  1924.0             NaN   \n",
      "3     North Carolina State University  1925.0             NaN   \n",
      "4              University of Kentucky  1927.0     Hardinsburg   \n",
      "...                               ...     ...             ...   \n",
      "3917  South Carolina State University  1969.0        Columbia   \n",
      "3918               Gonzaga University  1992.0        Portland   \n",
      "3919  University of Nevada, Las Vegas  1996.0  Hendersonville   \n",
      "3920                              NaN  1994.0      Heidelberg   \n",
      "3921                              NaN  1997.0          Mostar   \n",
      "\n",
      "                 birth_state  \n",
      "0                        NaN  \n",
      "1                    Indiana  \n",
      "2                        NaN  \n",
      "3                        NaN  \n",
      "4                   Kentucky  \n",
      "...                      ...  \n",
      "3917          South Carolina  \n",
      "3918                  Oregon  \n",
      "3919               Tennessee  \n",
      "3920                 Germany  \n",
      "3921  Bosnia and Herzegovina  \n",
      "\n",
      "[3922 rows x 8 columns]\n"
     ]
    }
   ],
   "source": [
    "players = pd.read_csv('Players.csv')\n",
    "print(players)"
   ],
   "metadata": {
    "collapsed": false,
    "pycharm": {
     "name": "#%%\n"
    }
   }
  },
  {
   "cell_type": "code",
   "execution_count": 663,
   "outputs": [
    {
     "name": "stdout",
     "output_type": "stream",
     "text": [
      "                     name  year_start  year_end position height  weight  \\\n",
      "0          Alaa Abdelnaby        1991      1995      F-C   6-10   240.0   \n",
      "1         Zaid Abdul-Aziz        1969      1978      C-F    6-9   235.0   \n",
      "2     Kareem Abdul-Jabbar        1970      1989        C    7-2   225.0   \n",
      "3      Mahmoud Abdul-Rauf        1991      2001        G    6-1   162.0   \n",
      "4       Tariq Abdul-Wahad        1998      2003        F    6-6   223.0   \n",
      "...                   ...         ...       ...      ...    ...     ...   \n",
      "4545           Ante Zizic        2018      2018      F-C   6-11   250.0   \n",
      "4546             Jim Zoet        1983      1983        C    7-1   240.0   \n",
      "4547            Bill Zopf        1971      1971        G    6-1   170.0   \n",
      "4548          Ivica Zubac        2017      2018        C    7-1   265.0   \n",
      "4549           Matt Zunic        1949      1949      G-F    6-3   195.0   \n",
      "\n",
      "             birth_date                                college  \n",
      "0         June 24, 1968                        Duke University  \n",
      "1         April 7, 1946                  Iowa State University  \n",
      "2        April 16, 1947  University of California, Los Angeles  \n",
      "3         March 9, 1969             Louisiana State University  \n",
      "4      November 3, 1974              San Jose State University  \n",
      "...                 ...                                    ...  \n",
      "4545    January 4, 1997                                    NaN  \n",
      "4546  December 20, 1953                  Kent State University  \n",
      "4547       June 7, 1948                    Duquesne University  \n",
      "4548     March 18, 1997                                    NaN  \n",
      "4549  December 19, 1919           George Washington University  \n",
      "\n",
      "[4550 rows x 8 columns]\n"
     ]
    }
   ],
   "source": [
    "player_data = pd.read_csv('player_data.csv')\n",
    "print(player_data)"
   ],
   "metadata": {
    "collapsed": false,
    "pycharm": {
     "name": "#%%\n"
    }
   }
  },
  {
   "cell_type": "code",
   "execution_count": 663,
   "outputs": [],
   "source": [],
   "metadata": {
    "collapsed": false,
    "pycharm": {
     "name": "#%%\n"
    }
   }
  },
  {
   "cell_type": "code",
   "execution_count": 5,
   "outputs": [
    {
     "name": "stdout",
     "output_type": "stream",
     "text": [
      "      Unnamed: 0             Player  height  weight  \\\n",
      "0              0    Curly Armstrong   180.0    77.0   \n",
      "1              1       Cliff Barker   188.0    83.0   \n",
      "2              2      Leo Barnhorst   193.0    86.0   \n",
      "3              3         Ed Bartels   196.0    88.0   \n",
      "4              4        Ralph Beard   178.0    79.0   \n",
      "...          ...                ...     ...     ...   \n",
      "3917        3917      Troy Williams   198.0    97.0   \n",
      "3918        3918       Kyle Wiltjer   208.0   108.0   \n",
      "3919        3919  Stephen Zimmerman   213.0   108.0   \n",
      "3920        3920        Paul Zipser   203.0    97.0   \n",
      "3921        3921        Ivica Zubac   216.0   120.0   \n",
      "\n",
      "                              collage    born      birth_city  \\\n",
      "0                  Indiana University  1918.0             NaN   \n",
      "1              University of Kentucky  1921.0        Yorktown   \n",
      "2            University of Notre Dame  1924.0             NaN   \n",
      "3     North Carolina State University  1925.0             NaN   \n",
      "4              University of Kentucky  1927.0     Hardinsburg   \n",
      "...                               ...     ...             ...   \n",
      "3917  South Carolina State University  1969.0        Columbia   \n",
      "3918               Gonzaga University  1992.0        Portland   \n",
      "3919  University of Nevada, Las Vegas  1996.0  Hendersonville   \n",
      "3920                              NaN  1994.0      Heidelberg   \n",
      "3921                              NaN  1997.0          Mostar   \n",
      "\n",
      "                 birth_state  \n",
      "0                        NaN  \n",
      "1                    Indiana  \n",
      "2                        NaN  \n",
      "3                        NaN  \n",
      "4                   Kentucky  \n",
      "...                      ...  \n",
      "3917          South Carolina  \n",
      "3918                  Oregon  \n",
      "3919               Tennessee  \n",
      "3920                 Germany  \n",
      "3921  Bosnia and Herzegovina  \n",
      "\n",
      "[3922 rows x 8 columns]\n"
     ]
    }
   ],
   "source": [
    "players = pd.read_csv('Players.csv')\n",
    "print(players)"
   ],
   "metadata": {
    "collapsed": false,
    "pycharm": {
     "name": "#%%\n"
    }
   }
  },
  {
   "cell_type": "code",
   "execution_count": 6,
   "outputs": [
    {
     "name": "stdout",
     "output_type": "stream",
     "text": [
      "                     name  year_start  year_end position height  weight  \\\n",
      "0          Alaa Abdelnaby        1991      1995      F-C   6-10   240.0   \n",
      "1         Zaid Abdul-Aziz        1969      1978      C-F    6-9   235.0   \n",
      "2     Kareem Abdul-Jabbar        1970      1989        C    7-2   225.0   \n",
      "3      Mahmoud Abdul-Rauf        1991      2001        G    6-1   162.0   \n",
      "4       Tariq Abdul-Wahad        1998      2003        F    6-6   223.0   \n",
      "...                   ...         ...       ...      ...    ...     ...   \n",
      "4545           Ante Zizic        2018      2018      F-C   6-11   250.0   \n",
      "4546             Jim Zoet        1983      1983        C    7-1   240.0   \n",
      "4547            Bill Zopf        1971      1971        G    6-1   170.0   \n",
      "4548          Ivica Zubac        2017      2018        C    7-1   265.0   \n",
      "4549           Matt Zunic        1949      1949      G-F    6-3   195.0   \n",
      "\n",
      "             birth_date                                college  \n",
      "0         June 24, 1968                        Duke University  \n",
      "1         April 7, 1946                  Iowa State University  \n",
      "2        April 16, 1947  University of California, Los Angeles  \n",
      "3         March 9, 1969             Louisiana State University  \n",
      "4      November 3, 1974              San Jose State University  \n",
      "...                 ...                                    ...  \n",
      "4545    January 4, 1997                                    NaN  \n",
      "4546  December 20, 1953                  Kent State University  \n",
      "4547       June 7, 1948                    Duquesne University  \n",
      "4548     March 18, 1997                                    NaN  \n",
      "4549  December 19, 1919           George Washington University  \n",
      "\n",
      "[4550 rows x 8 columns]\n"
     ]
    }
   ],
   "source": [
    "player_data = pd.read_csv('player_data.csv')\n",
    "print(player_data)"
   ],
   "metadata": {
    "collapsed": false,
    "pycharm": {
     "name": "#%%\n"
    }
   }
  },
  {
   "cell_type": "code",
   "execution_count": null,
   "outputs": [],
   "source": [],
   "metadata": {
    "collapsed": false,
    "pycharm": {
     "name": "#%%\n"
    }
   }
  }
 ],
 "metadata": {
  "kernelspec": {
   "display_name": "Python 3",
   "language": "python",
   "name": "python3"
  },
  "language_info": {
   "codemirror_mode": {
    "name": "ipython",
    "version": 2
   },
   "file_extension": ".py",
   "mimetype": "text/x-python",
   "name": "python",
   "nbconvert_exporter": "python",
   "pygments_lexer": "ipython2",
   "version": "2.7.6"
  }
 },
 "nbformat": 4,
 "nbformat_minor": 0
}