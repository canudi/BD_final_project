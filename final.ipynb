{
 "cells": [
  {
   "cell_type": "code",
   "execution_count": 3,
   "metadata": {
    "collapsed": true
   },
   "outputs": [
    {
     "name": "stdout",
     "output_type": "stream",
     "text": [
      "       Season   Lg                 Team   W   L   W/L%  Finish    SRS  Pace  \\\n",
      "0     2017-18  NBA       Boston Celtics  29  10  0.744       1   4.38  95.4   \n",
      "1     2016-17  NBA      Boston Celtics*  53  29  0.646       1   2.25  96.8   \n",
      "2     2015-16  NBA      Boston Celtics*  48  34  0.585       2   2.84  98.5   \n",
      "3     2014-15  NBA      Boston Celtics*  40  42  0.488       2  -0.40  95.8   \n",
      "4     2013-14  NBA       Boston Celtics  25  57  0.305       4  -4.97  93.3   \n",
      "...       ...  ...                  ...  ..  ..    ...     ...    ...   ...   \n",
      "1478  1999-00  NBA  Vancouver Grizzlies  22  60  0.268       7  -5.10  91.0   \n",
      "1479  1998-99  NBA  Vancouver Grizzlies   8  42  0.160       7  -8.94  89.0   \n",
      "1480  1997-98  NBA  Vancouver Grizzlies  19  63  0.232       6  -7.47  92.1   \n",
      "1481  1996-97  NBA  Vancouver Grizzlies  14  68  0.171       7 -10.17  88.4   \n",
      "1482  1995-96  NBA  Vancouver Grizzlies  15  67  0.183       7  -9.55  91.0   \n",
      "\n",
      "      Rel_Pace   ORtg  Rel_ORtg   DRtg  Rel_DRtg                Playoffs  \\\n",
      "0         -1.7  108.0       0.2  102.8      -5.0                     NaN   \n",
      "1          0.4  111.2       2.4  108.4      -0.4    Lost E. Conf. Finals   \n",
      "2          2.7  106.8       0.4  103.6      -2.8  Lost E. Conf. 1st Rnd.   \n",
      "3          1.9  104.7      -0.9  104.5      -1.1  Lost E. Conf. 1st Rnd.   \n",
      "4         -0.6  102.9      -3.8  107.7       1.0                     NaN   \n",
      "...        ...    ...       ...    ...       ...                     ...   \n",
      "1478      -2.1  102.3      -1.8  108.5       4.4                     NaN   \n",
      "1479       0.1   98.4      -3.8  107.9       5.7                     NaN   \n",
      "1480       1.8  104.1      -0.9  112.0       7.0                     NaN   \n",
      "1481      -1.7  100.3      -6.4  111.8       5.1                     NaN   \n",
      "1482      -0.8   97.6     -10.0  108.5       0.9                     NaN   \n",
      "\n",
      "                                  Coaches                Top WS  \n",
      "0                      B. Stevens (29-10)       K. Irving (5.7)  \n",
      "1                      B. Stevens (53-29)      I. Thomas (12.5)  \n",
      "2                      B. Stevens (48-34)       I. Thomas (9.7)  \n",
      "3                      B. Stevens (40-42)       T. Zeller (6.5)  \n",
      "4                      B. Stevens (25-57)         B. Bass (5.1)  \n",
      "...                                   ...                   ...  \n",
      "1478    B. Hill (4-18) L. Hollins (18-42)  S. Abdur-Rahim (8.8)  \n",
      "1479                       B. Hill (8-42)  S. Abdur-Rahim (4.6)  \n",
      "1480                      B. Hill (19-63)  S. Abdur-Rahim (6.9)  \n",
      "1481  B. Winters (8-35) S. Jackson (6-33)      G. Anthony (3.5)  \n",
      "1482                   B. Winters (15-67)      G. Anthony (4.8)  \n",
      "\n",
      "[1483 rows x 17 columns]\n"
     ]
    }
   ],
   "source": [
    "import pandas as pd\n",
    "\n",
    "team_recs = pd.read_csv('Team_Records.csv')\n",
    "# winners = team_recs[team_recs.Finish == 1]\n",
    "print(team_recs)"
   ]
  },
  {
   "cell_type": "code",
   "execution_count": 14,
   "outputs": [
    {
     "ename": "IndexingError",
     "evalue": "Too many indexers",
     "output_type": "error",
     "traceback": [
      "\u001B[1;31m---------------------------------------------------------------------------\u001B[0m",
      "\u001B[1;31mIndexingError\u001B[0m                             Traceback (most recent call last)",
      "Input \u001B[1;32mIn [14]\u001B[0m, in \u001B[0;36m<cell line: 4>\u001B[1;34m()\u001B[0m\n\u001B[0;32m      1\u001B[0m season_stats \u001B[38;5;241m=\u001B[39m pd\u001B[38;5;241m.\u001B[39mread_csv(\u001B[38;5;124m'\u001B[39m\u001B[38;5;124mSeasons_Stats.csv\u001B[39m\u001B[38;5;124m'\u001B[39m)\n\u001B[0;32m      2\u001B[0m \u001B[38;5;66;03m# by_team = season_stats.groupby('Tm').get_group('AND')\u001B[39;00m\n\u001B[0;32m      3\u001B[0m \u001B[38;5;66;03m# not sure if contributes to team playing - 'OWS', 'DWS', 'WS', 'WS/48',\u001B[39;00m\n\u001B[1;32m----> 4\u001B[0m team_playing_stats \u001B[38;5;241m=\u001B[39m \u001B[43mseason_stats\u001B[49m\u001B[38;5;241;43m.\u001B[39;49m\u001B[43mloc\u001B[49m\u001B[43m[\u001B[49m\u001B[38;5;124;43m'\u001B[39;49m\u001B[38;5;124;43mYear\u001B[39;49m\u001B[38;5;124;43m'\u001B[39;49m\u001B[43m,\u001B[49m\u001B[43m \u001B[49m\u001B[38;5;124;43m'\u001B[39;49m\u001B[38;5;124;43mTm\u001B[39;49m\u001B[38;5;124;43m'\u001B[39;49m\u001B[43m,\u001B[49m\u001B[43m \u001B[49m\u001B[38;5;124;43m'\u001B[39;49m\u001B[38;5;124;43mMP\u001B[39;49m\u001B[38;5;124;43m'\u001B[39;49m\u001B[43m,\u001B[49m\u001B[43m \u001B[49m\u001B[38;5;124;43m'\u001B[39;49m\u001B[38;5;124;43mPER\u001B[39;49m\u001B[38;5;124;43m'\u001B[39;49m\u001B[43m,\u001B[49m\u001B[43m \u001B[49m\u001B[38;5;124;43m'\u001B[39;49m\u001B[38;5;124;43mAST\u001B[39;49m\u001B[38;5;124;43m'\u001B[39;49m\u001B[43m,\u001B[49m\u001B[43m \u001B[49m\u001B[38;5;124;43m'\u001B[39;49m\u001B[38;5;124;43mAST\u001B[39;49m\u001B[38;5;124;43m%\u001B[39;49m\u001B[38;5;124;43m'\u001B[39;49m\u001B[43m,\u001B[49m\u001B[43m \u001B[49m\u001B[38;5;124;43m'\u001B[39;49m\u001B[38;5;124;43mUSG\u001B[39;49m\u001B[38;5;124;43m%\u001B[39;49m\u001B[38;5;124;43m'\u001B[39;49m\u001B[43m,\u001B[49m\u001B[43m \u001B[49m\u001B[38;5;124;43m'\u001B[39;49m\u001B[38;5;124;43mPTS\u001B[39;49m\u001B[38;5;124;43m'\u001B[39;49m\u001B[43m,\u001B[49m\u001B[43m \u001B[49m\u001B[38;5;124;43m'\u001B[39;49m\u001B[38;5;124;43m3PA\u001B[39;49m\u001B[38;5;124;43m'\u001B[39;49m\u001B[43m,\u001B[49m\u001B[43m \u001B[49m\u001B[38;5;124;43m'\u001B[39;49m\u001B[38;5;124;43m2PA\u001B[39;49m\u001B[38;5;124;43m'\u001B[39;49m\u001B[43m,\u001B[49m\u001B[43m \u001B[49m\u001B[38;5;124;43m'\u001B[39;49m\u001B[38;5;124;43mPF\u001B[39;49m\u001B[38;5;124;43m'\u001B[39;49m\u001B[43m]\u001B[49m\n\u001B[0;32m      5\u001B[0m \u001B[38;5;28mprint\u001B[39m(team_playing_stats)\n",
      "File \u001B[1;32m~\\anaconda3\\lib\\site-packages\\pandas\\core\\indexing.py:961\u001B[0m, in \u001B[0;36m_LocationIndexer.__getitem__\u001B[1;34m(self, key)\u001B[0m\n\u001B[0;32m    959\u001B[0m     \u001B[38;5;28;01mif\u001B[39;00m \u001B[38;5;28mself\u001B[39m\u001B[38;5;241m.\u001B[39m_is_scalar_access(key):\n\u001B[0;32m    960\u001B[0m         \u001B[38;5;28;01mreturn\u001B[39;00m \u001B[38;5;28mself\u001B[39m\u001B[38;5;241m.\u001B[39mobj\u001B[38;5;241m.\u001B[39m_get_value(\u001B[38;5;241m*\u001B[39mkey, takeable\u001B[38;5;241m=\u001B[39m\u001B[38;5;28mself\u001B[39m\u001B[38;5;241m.\u001B[39m_takeable)\n\u001B[1;32m--> 961\u001B[0m     \u001B[38;5;28;01mreturn\u001B[39;00m \u001B[38;5;28;43mself\u001B[39;49m\u001B[38;5;241;43m.\u001B[39;49m\u001B[43m_getitem_tuple\u001B[49m\u001B[43m(\u001B[49m\u001B[43mkey\u001B[49m\u001B[43m)\u001B[49m\n\u001B[0;32m    962\u001B[0m \u001B[38;5;28;01melse\u001B[39;00m:\n\u001B[0;32m    963\u001B[0m     \u001B[38;5;66;03m# we by definition only have the 0th axis\u001B[39;00m\n\u001B[0;32m    964\u001B[0m     axis \u001B[38;5;241m=\u001B[39m \u001B[38;5;28mself\u001B[39m\u001B[38;5;241m.\u001B[39maxis \u001B[38;5;129;01mor\u001B[39;00m \u001B[38;5;241m0\u001B[39m\n",
      "File \u001B[1;32m~\\anaconda3\\lib\\site-packages\\pandas\\core\\indexing.py:1143\u001B[0m, in \u001B[0;36m_LocIndexer._getitem_tuple\u001B[1;34m(self, tup)\u001B[0m\n\u001B[0;32m   1140\u001B[0m     \u001B[38;5;28;01mreturn\u001B[39;00m \u001B[38;5;28mself\u001B[39m\u001B[38;5;241m.\u001B[39m_getitem_lowerdim(tup)\n\u001B[0;32m   1142\u001B[0m \u001B[38;5;66;03m# no multi-index, so validate all of the indexers\u001B[39;00m\n\u001B[1;32m-> 1143\u001B[0m tup \u001B[38;5;241m=\u001B[39m \u001B[38;5;28;43mself\u001B[39;49m\u001B[38;5;241;43m.\u001B[39;49m\u001B[43m_validate_tuple_indexer\u001B[49m\u001B[43m(\u001B[49m\u001B[43mtup\u001B[49m\u001B[43m)\u001B[49m\n\u001B[0;32m   1145\u001B[0m \u001B[38;5;66;03m# ugly hack for GH #836\u001B[39;00m\n\u001B[0;32m   1146\u001B[0m \u001B[38;5;28;01mif\u001B[39;00m \u001B[38;5;28mself\u001B[39m\u001B[38;5;241m.\u001B[39m_multi_take_opportunity(tup):\n",
      "File \u001B[1;32m~\\anaconda3\\lib\\site-packages\\pandas\\core\\indexing.py:765\u001B[0m, in \u001B[0;36m_LocationIndexer._validate_tuple_indexer\u001B[1;34m(self, key)\u001B[0m\n\u001B[0;32m    761\u001B[0m \u001B[38;5;28;01mdef\u001B[39;00m \u001B[38;5;21m_validate_tuple_indexer\u001B[39m(\u001B[38;5;28mself\u001B[39m, key: \u001B[38;5;28mtuple\u001B[39m) \u001B[38;5;241m-\u001B[39m\u001B[38;5;241m>\u001B[39m \u001B[38;5;28mtuple\u001B[39m:\n\u001B[0;32m    762\u001B[0m     \u001B[38;5;124;03m\"\"\"\u001B[39;00m\n\u001B[0;32m    763\u001B[0m \u001B[38;5;124;03m    Check the key for valid keys across my indexer.\u001B[39;00m\n\u001B[0;32m    764\u001B[0m \u001B[38;5;124;03m    \"\"\"\u001B[39;00m\n\u001B[1;32m--> 765\u001B[0m     key \u001B[38;5;241m=\u001B[39m \u001B[38;5;28;43mself\u001B[39;49m\u001B[38;5;241;43m.\u001B[39;49m\u001B[43m_validate_key_length\u001B[49m\u001B[43m(\u001B[49m\u001B[43mkey\u001B[49m\u001B[43m)\u001B[49m\n\u001B[0;32m    766\u001B[0m     key \u001B[38;5;241m=\u001B[39m \u001B[38;5;28mself\u001B[39m\u001B[38;5;241m.\u001B[39m_expand_ellipsis(key)\n\u001B[0;32m    767\u001B[0m     \u001B[38;5;28;01mfor\u001B[39;00m i, k \u001B[38;5;129;01min\u001B[39;00m \u001B[38;5;28menumerate\u001B[39m(key):\n",
      "File \u001B[1;32m~\\anaconda3\\lib\\site-packages\\pandas\\core\\indexing.py:812\u001B[0m, in \u001B[0;36m_LocationIndexer._validate_key_length\u001B[1;34m(self, key)\u001B[0m\n\u001B[0;32m    810\u001B[0m             \u001B[38;5;28;01mraise\u001B[39;00m IndexingError(_one_ellipsis_message)\n\u001B[0;32m    811\u001B[0m         \u001B[38;5;28;01mreturn\u001B[39;00m \u001B[38;5;28mself\u001B[39m\u001B[38;5;241m.\u001B[39m_validate_key_length(key)\n\u001B[1;32m--> 812\u001B[0m     \u001B[38;5;28;01mraise\u001B[39;00m IndexingError(\u001B[38;5;124m\"\u001B[39m\u001B[38;5;124mToo many indexers\u001B[39m\u001B[38;5;124m\"\u001B[39m)\n\u001B[0;32m    813\u001B[0m \u001B[38;5;28;01mreturn\u001B[39;00m key\n",
      "\u001B[1;31mIndexingError\u001B[0m: Too many indexers"
     ]
    }
   ],
   "source": [
    "season_stats = pd.read_csv('Seasons_Stats.csv')\n",
    "# by_team = season_stats.groupby('Tm').get_group('AND')\n",
    "# not sure if contributes to team playing - 'OWS', 'DWS', 'WS', 'WS/48',\n",
    "\n",
    "# team_playing_stats = season_stats.loc['Year', 'Tm', 'MP', 'PER', 'AST', 'AST%', 'USG%', 'PTS', '3PA', '2PA', 'PF']\n",
    "\"\"\" build normalized series for each interesting column \"\"\"\n",
    "assists_by_team = season_stats.groupby()\n",
    "\"\"\"\n",
    "build team_playing_by_team DF with normalized series for each interesting column by team - X matrix:\n",
    "    AST -   sum\n",
    "    MP  -   distribution\n",
    "    PTS -   distribution\n",
    "    PA  -   distribution\n",
    "    PF  -   distribution\n",
    "index - <season>_<team_name>\n",
    "\"\"\"\n",
    "\n",
    "\"\"\" maybe - check correlation between the columns in X \"\"\"\n",
    "\n",
    "\"\"\" build y series - team success for each season \"\"\"\n",
    "\n",
    "\"\"\" check correlation for each colum in X with y \"\"\"\n",
    "\n",
    "\"\"\" hypothesis testing \"\"\"\n",
    "\n",
    "\"\"\" try building a ML model to predict success - try to minimize error rate \"\"\"\n",
    "\n",
    "print()"
   ],
   "metadata": {
    "collapsed": false,
    "pycharm": {
     "name": "#%%\n"
    }
   }
  },
  {
   "cell_type": "code",
   "execution_count": 5,
   "outputs": [
    {
     "name": "stdout",
     "output_type": "stream",
     "text": [
      "      Unnamed: 0             Player  height  weight  \\\n",
      "0              0    Curly Armstrong   180.0    77.0   \n",
      "1              1       Cliff Barker   188.0    83.0   \n",
      "2              2      Leo Barnhorst   193.0    86.0   \n",
      "3              3         Ed Bartels   196.0    88.0   \n",
      "4              4        Ralph Beard   178.0    79.0   \n",
      "...          ...                ...     ...     ...   \n",
      "3917        3917      Troy Williams   198.0    97.0   \n",
      "3918        3918       Kyle Wiltjer   208.0   108.0   \n",
      "3919        3919  Stephen Zimmerman   213.0   108.0   \n",
      "3920        3920        Paul Zipser   203.0    97.0   \n",
      "3921        3921        Ivica Zubac   216.0   120.0   \n",
      "\n",
      "                              collage    born      birth_city  \\\n",
      "0                  Indiana University  1918.0             NaN   \n",
      "1              University of Kentucky  1921.0        Yorktown   \n",
      "2            University of Notre Dame  1924.0             NaN   \n",
      "3     North Carolina State University  1925.0             NaN   \n",
      "4              University of Kentucky  1927.0     Hardinsburg   \n",
      "...                               ...     ...             ...   \n",
      "3917  South Carolina State University  1969.0        Columbia   \n",
      "3918               Gonzaga University  1992.0        Portland   \n",
      "3919  University of Nevada, Las Vegas  1996.0  Hendersonville   \n",
      "3920                              NaN  1994.0      Heidelberg   \n",
      "3921                              NaN  1997.0          Mostar   \n",
      "\n",
      "                 birth_state  \n",
      "0                        NaN  \n",
      "1                    Indiana  \n",
      "2                        NaN  \n",
      "3                        NaN  \n",
      "4                   Kentucky  \n",
      "...                      ...  \n",
      "3917          South Carolina  \n",
      "3918                  Oregon  \n",
      "3919               Tennessee  \n",
      "3920                 Germany  \n",
      "3921  Bosnia and Herzegovina  \n",
      "\n",
      "[3922 rows x 8 columns]\n"
     ]
    }
   ],
   "source": [
    "players = pd.read_csv('Players.csv')\n",
    "print(players)"
   ],
   "metadata": {
    "collapsed": false,
    "pycharm": {
     "name": "#%%\n"
    }
   }
  },
  {
   "cell_type": "code",
   "execution_count": 6,
   "outputs": [
    {
     "name": "stdout",
     "output_type": "stream",
     "text": [
      "                     name  year_start  year_end position height  weight  \\\n",
      "0          Alaa Abdelnaby        1991      1995      F-C   6-10   240.0   \n",
      "1         Zaid Abdul-Aziz        1969      1978      C-F    6-9   235.0   \n",
      "2     Kareem Abdul-Jabbar        1970      1989        C    7-2   225.0   \n",
      "3      Mahmoud Abdul-Rauf        1991      2001        G    6-1   162.0   \n",
      "4       Tariq Abdul-Wahad        1998      2003        F    6-6   223.0   \n",
      "...                   ...         ...       ...      ...    ...     ...   \n",
      "4545           Ante Zizic        2018      2018      F-C   6-11   250.0   \n",
      "4546             Jim Zoet        1983      1983        C    7-1   240.0   \n",
      "4547            Bill Zopf        1971      1971        G    6-1   170.0   \n",
      "4548          Ivica Zubac        2017      2018        C    7-1   265.0   \n",
      "4549           Matt Zunic        1949      1949      G-F    6-3   195.0   \n",
      "\n",
      "             birth_date                                college  \n",
      "0         June 24, 1968                        Duke University  \n",
      "1         April 7, 1946                  Iowa State University  \n",
      "2        April 16, 1947  University of California, Los Angeles  \n",
      "3         March 9, 1969             Louisiana State University  \n",
      "4      November 3, 1974              San Jose State University  \n",
      "...                 ...                                    ...  \n",
      "4545    January 4, 1997                                    NaN  \n",
      "4546  December 20, 1953                  Kent State University  \n",
      "4547       June 7, 1948                    Duquesne University  \n",
      "4548     March 18, 1997                                    NaN  \n",
      "4549  December 19, 1919           George Washington University  \n",
      "\n",
      "[4550 rows x 8 columns]\n"
     ]
    }
   ],
   "source": [
    "player_data = pd.read_csv('player_data.csv')\n",
    "print(player_data)"
   ],
   "metadata": {
    "collapsed": false,
    "pycharm": {
     "name": "#%%\n"
    }
   }
  },
  {
   "cell_type": "code",
   "execution_count": null,
   "outputs": [],
   "source": [],
   "metadata": {
    "collapsed": false,
    "pycharm": {
     "name": "#%%\n"
    }
   }
  }
 ],
 "metadata": {
  "kernelspec": {
   "display_name": "Python 3",
   "language": "python",
   "name": "python3"
  },
  "language_info": {
   "codemirror_mode": {
    "name": "ipython",
    "version": 2
   },
   "file_extension": ".py",
   "mimetype": "text/x-python",
   "name": "python",
   "nbconvert_exporter": "python",
   "pygments_lexer": "ipython2",
   "version": "2.7.6"
  }
 },
 "nbformat": 4,
 "nbformat_minor": 0
}