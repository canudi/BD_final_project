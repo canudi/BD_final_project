{
 "cells": [
  {
   "cell_type": "code",
   "execution_count": 20,
   "metadata": {
    "collapsed": true,
    "pycharm": {
     "name": "#%%\n"
    }
   },
   "outputs": [
    {
     "name": "stdout",
     "output_type": "stream",
     "text": [
      "                  Player   PER       TbY\n",
      "1827   Wilt Chamberlain*  31.8  1963 SFW\n",
      "8869     Michael Jordan*  31.7  1988 CHI\n",
      "19611       LeBron James  31.7  2009 CLE\n",
      "1706   Wilt Chamberlain*  31.7  1962 PHW\n",
      "21933       LeBron James  31.6  2013 MIA\n",
      "1962   Wilt Chamberlain*  31.6  1964 SFW\n",
      "10212    Michael Jordan*  31.6  1991 CHI\n",
      "23633      Stephen Curry  31.5  2016 GSW\n",
      "9747     Michael Jordan*  31.2  1990 CHI\n",
      "9297     Michael Jordan*  31.1  1989 CHI\n",
      "20207       LeBron James  31.1  2010 CLE\n",
      "13271    David Robinson*  31.0  1997 SAS\n",
      "23012      Anthony Davis  30.8  2015 NOP\n",
      "11731    David Robinson*  30.7  1994 SAS\n",
      "21395       LeBron James  30.7  2012 MIA\n",
      "24654  Russell Westbrook  30.6  2017 OKC\n",
      "14292  Shaquille O'Neal*  30.6  1999 LAL\n",
      "14806  Shaquille O'Neal*  30.6  2000 LAL\n",
      "19877        Dwyane Wade  30.4  2009 MIA\n",
      "16286      Tracy McGrady  30.3  2003 ORL\n"
     ]
    }
   ],
   "source": [
    "import pandas as pd\n",
    "import matplotlib.pyplot as plt\n",
    "import numpy as np\n",
    "from scipy import stats\n",
    "from scipy.stats import t\n",
    "import math\n",
    "\n",
    "season_stats = pd.read_csv('Seasons_Stats.csv')\n",
    "\n",
    "\"\"\" Structuring a DataFrame of aspects that imply a team plays a \"\"\"\n",
    "\n",
    "# team_playing_stats = season_stats.loc['Year', 'Tm', 'MP', 'PER', 'AST', 'AST%', 'USG%', 'PTS', '3PA', '2PA', 'PF']\n",
    "\"\"\" build normalized series for each interesting column \"\"\"\n",
    "players_df = season_stats[['Player', 'MP', 'PER', 'Tm', 'Year']].dropna()\n",
    "players_df = players_df[players_df.MP > 100]    # removing players who didn't play enough\n",
    "TOT_mask = players_df.Tm == 'TOT'               # the sum of stats for a player that played for more than 1 team\n",
    "players_df = players_df[~TOT_mask]\n",
    "players_df['TbY'] = players_df.Year.astype(int).apply(lambda name: str(name)) + ' ' + players_df.Tm\n",
    "\n",
    "print(players_df.sort_values(by='PER', ascending=False)[['Player', 'PER', 'TbY']].head(20))"
   ]
  },
  {
   "cell_type": "code",
   "execution_count": 8,
   "outputs": [
    {
     "data": {
      "text/plain": "<Figure size 432x288 with 1 Axes>",
      "image/png": "[encoded data removed]"
     },
     "metadata": {
      "needs_background": "light"
     },
     "output_type": "display_data"
    },
    {
     "data": {
      "text/plain": "' for each TbY find most affective individual player '"
     },
     "execution_count": 8,
     "metadata": {},
     "output_type": "execute_result"
    }
   ],
   "source": [
    "# weights_dic = pd.Series({'FG': 85.910, 'STL': 53.897, '3P': 51.757, 'FT': 46.845, 'BLK': 39.190,\n",
    "#                          'ORB': 39.190, 'AST': 34.677, 'DRB': 14.707, 'PF': -17.174, 'FT_M': -20.091,\n",
    "#                          'FG_M': -39.190, 'TOV': -53.897})\n",
    "#\n",
    "# \"\"\" formula by https://bleacherreport.com/articles/113144-cracking-the-code-how-to-calculate-hollingers-per-without-all-the-mess\"\"\"\n",
    "# approximated_PER = ((season_stats.FG * weights_dic.FG + season_stats.STL * weights_dic.STL + season_stats['3P'] * weights_dic['3P'] + \\\n",
    "#                    season_stats.FT * weights_dic.FT + season_stats.BLK * weights_dic.BLK + season_stats.ORB * weights_dic.ORB + \\\n",
    "#                    season_stats.AST * weights_dic.AST + season_stats.DRB * weights_dic.DRB + season_stats.PF * weights_dic.PF + \\\n",
    "#                    (season_stats.FTA - season_stats.FT) * weights_dic.FT_M + (season_stats.FGA - season_stats.FG) * weights_dic.FG_M + \\\n",
    "#                    season_stats.TOV * weights_dic.TOV) / season_stats.MP).dropna()\n",
    "plt.hist(players_df.PER, bins=100)\n",
    "plt.show()\n",
    "\"\"\" for each TbY find most affective individual player \"\"\""
   ],
   "metadata": {
    "collapsed": false,
    "pycharm": {
     "name": "#%%\n"
    }
   }
  },
  {
   "cell_type": "code",
   "execution_count": 10,
   "outputs": [
    {
     "data": {
      "text/plain": "<Figure size 432x288 with 1 Axes>",
      "image/png": "[encoded data removed]"
     },
     "metadata": {
      "needs_background": "light"
     },
     "output_type": "display_data"
    }
   ],
   "source": [
    "most_aff_player_by_team = players_df[['PER', 'TbY']].groupby(players_df.TbY).max()\n",
    "plt.hist(most_aff_player_by_team.PER, bins=100)\n",
    "plt.show()"
   ],
   "metadata": {
    "collapsed": false,
    "pycharm": {
     "name": "#%%\n"
    }
   }
  },
  {
   "cell_type": "code",
   "execution_count": 21,
   "outputs": [
    {
     "name": "stdout",
     "output_type": "stream",
     "text": [
      "       Season   Lg                 Team   W   L   W/L%  Finish    SRS  Pace  \\\n",
      "1     2016-17  NBA      Boston Celtics*  53  29  0.646       1   2.25  96.8   \n",
      "2     2015-16  NBA      Boston Celtics*  48  34  0.585       2   2.84  98.5   \n",
      "3     2014-15  NBA      Boston Celtics*  40  42  0.488       2  -0.40  95.8   \n",
      "4     2013-14  NBA       Boston Celtics  25  57  0.305       4  -4.97  93.3   \n",
      "5     2012-13  NBA      Boston Celtics*  41  40  0.506       3  -0.62  91.7   \n",
      "...       ...  ...                  ...  ..  ..    ...     ...    ...   ...   \n",
      "1478  1999-00  NBA  Vancouver Grizzlies  22  60  0.268       7  -5.10  91.0   \n",
      "1479  1998-99  NBA  Vancouver Grizzlies   8  42  0.160       7  -8.94  89.0   \n",
      "1480  1997-98  NBA  Vancouver Grizzlies  19  63  0.232       6  -7.47  92.1   \n",
      "1481  1996-97  NBA  Vancouver Grizzlies  14  68  0.171       7 -10.17  88.4   \n",
      "1482  1995-96  NBA  Vancouver Grizzlies  15  67  0.183       7  -9.55  91.0   \n",
      "\n",
      "      Rel_Pace  ...  Rel_ORtg   DRtg  Rel_DRtg                Playoffs  \\\n",
      "1          0.4  ...       2.4  108.4      -0.4    Lost E. Conf. Finals   \n",
      "2          2.7  ...       0.4  103.6      -2.8  Lost E. Conf. 1st Rnd.   \n",
      "3          1.9  ...      -0.9  104.5      -1.1  Lost E. Conf. 1st Rnd.   \n",
      "4         -0.6  ...      -3.8  107.7       1.0                     NaN   \n",
      "5         -0.3  ...      -2.8  103.3      -2.6  Lost E. Conf. 1st Rnd.   \n",
      "...        ...  ...       ...    ...       ...                     ...   \n",
      "1478      -2.1  ...      -1.8  108.5       4.4                     NaN   \n",
      "1479       0.1  ...      -3.8  107.9       5.7                     NaN   \n",
      "1480       1.8  ...      -0.9  112.0       7.0                     NaN   \n",
      "1481      -1.7  ...      -6.4  111.8       5.1                     NaN   \n",
      "1482      -0.8  ...     -10.0  108.5       0.9                     NaN   \n",
      "\n",
      "                                  Coaches                Top WS  \\\n",
      "1                      B. Stevens (53-29)      I. Thomas (12.5)   \n",
      "2                      B. Stevens (48-34)       I. Thomas (9.7)   \n",
      "3                      B. Stevens (40-42)       T. Zeller (6.5)   \n",
      "4                      B. Stevens (25-57)         B. Bass (5.1)   \n",
      "5                       D. Rivers (41-40)       P. Pierce (7.2)   \n",
      "...                                   ...                   ...   \n",
      "1478    B. Hill (4-18) L. Hollins (18-42)  S. Abdur-Rahim (8.8)   \n",
      "1479                       B. Hill (8-42)  S. Abdur-Rahim (4.6)   \n",
      "1480                      B. Hill (19-63)  S. Abdur-Rahim (6.9)   \n",
      "1481  B. Winters (8-35) S. Jackson (6-33)      G. Anthony (3.5)   \n",
      "1482                   B. Winters (15-67)      G. Anthony (4.8)   \n",
      "\n",
      "                    uNAME   NN    SS       TbY  \n",
      "1          Boston Celtics  BOS  2017  2017 BOS  \n",
      "2          Boston Celtics  BOS  2016  2016 BOS  \n",
      "3          Boston Celtics  BOS  2015  2015 BOS  \n",
      "4          Boston Celtics  BOS  2014  2014 BOS  \n",
      "5          Boston Celtics  BOS  2013  2013 BOS  \n",
      "...                   ...  ...   ...       ...  \n",
      "1478  Vancouver Grizzlies  VAN  2000  2000 VAN  \n",
      "1479  Vancouver Grizzlies  VAN  1999  1999 VAN  \n",
      "1480  Vancouver Grizzlies  VAN  1998  1998 VAN  \n",
      "1481  Vancouver Grizzlies  VAN  1997  1997 VAN  \n",
      "1482  Vancouver Grizzlies  VAN  1996  1996 VAN  \n",
      "\n",
      "[1022 rows x 21 columns]\n"
     ]
    }
   ],
   "source": [
    "team_records = pd.read_csv('Team_Records.csv')\n",
    "# team_records = team_records[team_records.Season > '1979']\n",
    "\n",
    "def union_star(name):\n",
    "    if name.endswith('*'):\n",
    "        return name[:-1]\n",
    "    return name\n",
    "\n",
    "team_records['uNAME'] = team_records.Team.apply(lambda name: union_star(name))\n",
    "\n",
    "team_names = pd.read_csv('Team_Names.csv')\n",
    "\n",
    "def find_team(name):\n",
    "    try:\n",
    "        nn = team_names[team_names.Long == name].Short\n",
    "        if nn.size == 1:\n",
    "            return team_names[team_names.Long == name].Short.values[0]\n",
    "        return 'NOT'\n",
    "    except KeyError:\n",
    "        return 'NOT'\n",
    "\n",
    "team_records['NN'] = team_records.uNAME.apply(lambda name: find_team(name))\n",
    "team_records['SS'] = team_records.Season.apply(\n",
    "    lambda year: year[:2] + year[-2:] if year != '1999-00' else '2000')\n",
    "team_records['TbY'] = team_records.SS + ' ' + team_records.NN\n",
    "\n",
    "trt_mask = team_records.TbY.apply(lambda ts: True if ts in most_aff_player_by_team.index else False)\n",
    "team_records = team_records[trt_mask]\n",
    "\n",
    "trr_mask = pd.Series(most_aff_player_by_team.index, index=most_aff_player_by_team.index).apply(\n",
    "    lambda ts: True if ts in team_records.TbY.values else False\n",
    ")\n",
    "most_aff_player_by_team = most_aff_player_by_team[trr_mask]\n",
    "\n",
    "print(team_records)"
   ],
   "metadata": {
    "collapsed": false,
    "pycharm": {
     "name": "#%%\n"
    }
   }
  },
  {
   "cell_type": "code",
   "execution_count": 22,
   "outputs": [
    {
     "data": {
      "text/plain": "<Figure size 432x288 with 1 Axes>",
      "image/png": "[encoded data removed]"
     },
     "metadata": {
      "needs_background": "light"
     },
     "output_type": "display_data"
    }
   ],
   "source": [
    "playoffs_weights_dic = {np.nan : 0, 'Won Finals' : 1, 'Lost Finals' : 0.8,\n",
    "                        'Lost W. Conf. Finals' : 0.6, 'Lost E. Conf. Finals': 0.6,\n",
    "                        'Lost W. Conf. Semis': 0.4, 'Lost E. Conf. Semis' : 0.4,\n",
    "                        'Lost W. Conf. 1st Rnd.' : 0.2, 'Lost E. Conf. 1st Rnd.' : 0.2}\n",
    "\n",
    "team_records['PW'] = team_records.Playoffs.apply(lambda score: playoffs_weights_dic[score])\n",
    "success = 0.5 * team_records['W/L%'] + 0.5 * team_records.PW\n",
    "success.index = team_records.TbY\n",
    "\n",
    "plt.hist(success, bins=100)\n",
    "plt.title('Custom Team Success Measure Distribution')\n",
    "plt.show()"
   ],
   "metadata": {
    "collapsed": false,
    "pycharm": {
     "name": "#%%\n"
    }
   }
  },
  {
   "cell_type": "code",
   "execution_count": 23,
   "outputs": [
    {
     "data": {
      "text/plain": "<Figure size 432x288 with 1 Axes>",
      "image/png": "[encoded data removed]"
     },
     "metadata": {
      "needs_background": "light"
     },
     "output_type": "display_data"
    }
   ],
   "source": [
    "plt.scatter(most_aff_player_by_team.PER, success)\n",
    "m, b = np.polyfit(most_aff_player_by_team.PER, success, 1)\n",
    "plt.plot(most_aff_player_by_team.PER, m * most_aff_player_by_team.PER + b, color=\"red\")\n",
    "plt.title('Team success by most affective players PER')\n",
    "plt.show()"
   ],
   "metadata": {
    "collapsed": false,
    "pycharm": {
     "name": "#%%\n"
    }
   }
  },
  {
   "cell_type": "code",
   "execution_count": 24,
   "outputs": [
    {
     "name": "stdout",
     "output_type": "stream",
     "text": [
      "P_value = -0.020897440746124894,   upper_bound = 0.378257636928393,    lower_bound = 0.34909461356084415\n",
      "Alternative hypothesis is rejected.\n"
     ]
    }
   ],
   "source": [
    "p_value = stats.pearsonr(most_aff_player_by_team.PER, success)[0]\n",
    "\n",
    "upper_bound = np.mean(success) - (np.std(success) / math.sqrt(len(success)) * t.ppf(0.01, len(success) - 1))\n",
    "lower_bound = np.mean(success) + (np.std(success) / math.sqrt(len(success)) * t.ppf(0.01, len(success) - 1))\n",
    "\n",
    "print(f'P_value = {p_value},   upper_bound = {upper_bound},    lower_bound = {lower_bound}')\n",
    "\n",
    "if lower_bound < np.abs(p_value) < upper_bound:\n",
    "    print('Alternative hypothesis is accepted.')\n",
    "else:\n",
    "    print('Alternative hypothesis is rejected.')"
   ],
   "metadata": {
    "collapsed": false,
    "pycharm": {
     "name": "#%%\n"
    }
   }
  },
  {
   "cell_type": "code",
   "execution_count": null,
   "outputs": [],
   "source": [],
   "metadata": {
    "collapsed": false,
    "pycharm": {
     "name": "#%%\n"
    }
   }
  }
 ],
 "metadata": {
  "kernelspec": {
   "display_name": "Python 3",
   "language": "python",
   "name": "python3"
  },
  "language_info": {
   "codemirror_mode": {
    "name": "ipython",
    "version": 2
   },
   "file_extension": ".py",
   "mimetype": "text/x-python",
   "name": "python",
   "nbconvert_exporter": "python",
   "pygments_lexer": "ipython2",
   "version": "2.7.6"
  }
 },
 "nbformat": 4,
 "nbformat_minor": 0
}