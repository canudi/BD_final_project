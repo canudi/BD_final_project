{
 "cells": [
  {
   "cell_type": "code",
   "execution_count": 2,
   "outputs": [
    {
     "name": "stdout",
     "output_type": "stream",
     "text": [
      "        Tm    Year    AST      MP     PTS   3PA     2PA   PER     G       TbY\n",
      "5727   LAL  1980.0  371.0  3143.0  2034.0   1.0  1382.0  25.3  82.0  1980 LAL\n",
      "5728   GSW  1980.0   87.0  1222.0   362.0   1.0   317.0  11.0  67.0  1980 GSW\n",
      "5729   PHO  1980.0  322.0  2168.0  1118.0   2.0   873.0  19.2  75.0  1980 PHO\n",
      "5730   BOS  1980.0  671.0  2864.0  1131.0  18.0   776.0  15.3  80.0  1980 BOS\n",
      "5731   CHI  1980.0   40.0   560.0    86.0   0.0    60.0   7.4  26.0  1980 CHI\n",
      "...    ...     ...    ...     ...     ...   ...     ...   ...   ...       ...\n",
      "24686  CHO  2017.0   99.0  1725.0   639.0   1.0   442.0  16.7  62.0  2017 CHO\n",
      "24687  BOS  2017.0   42.0   525.0   178.0   1.0   157.0  13.0  51.0  2017 BOS\n",
      "24688  ORL  2017.0    4.0   108.0    23.0   0.0    31.0   7.3  19.0  2017 ORL\n",
      "24689  CHI  2017.0   36.0   843.0   240.0  99.0   122.0   6.9  44.0  2017 CHI\n",
      "24690  LAL  2017.0   30.0   609.0   284.0   3.0   235.0  17.0  38.0  2017 LAL\n",
      "\n",
      "[17286 rows x 10 columns]\n"
     ]
    }
   ],
   "source": [
    "import pandas as pd\n",
    "import matplotlib.pyplot as plt\n",
    "import numpy as np\n",
    "from scipy import stats\n",
    "from scipy.stats import t\n",
    "import math\n",
    "\n",
    "season_stats = pd.read_csv('Seasons_Stats.csv')\n",
    "\n",
    "\"\"\" Structuring a DataFrame of aspects that imply a team plays a \"\"\"\n",
    "\n",
    "# team_playing_stats = season_stats.loc['Year', 'Tm', 'MP', 'PER', 'AST', 'AST%', 'USG%', 'PTS', '3PA', '2PA', 'PF']\n",
    "\"\"\" build normalized series for each interesting column \"\"\"\n",
    "players_df = season_stats[['Tm', 'Year', 'AST', 'MP', 'PTS', '3PA', '2PA', 'PER', 'G']].dropna()\n",
    "TOT_mask = players_df.Tm == 'TOT'           # the sum of stats for a player that played for more than 1 team\n",
    "players_df = players_df[~TOT_mask]\n",
    "players_df['TbY'] = players_df.Year.astype(int).apply(lambda name: str(name)) + ' ' + players_df.Tm\n",
    "print(players_df)"
   ],
   "metadata": {
    "collapsed": false,
    "pycharm": {
     "name": "#%%\n"
    }
   }
  },
  {
   "cell_type": "code",
   "execution_count": 3,
   "outputs": [
    {
     "data": {
      "text/plain": "' try building a ML model to predict success - try to minimize error rate '"
     },
     "execution_count": 3,
     "metadata": {},
     "output_type": "execute_result"
    }
   ],
   "source": [
    "\"\"\"\n",
    "build team_playing_by_team DF with normalized series for each interesting column by team - X matrix:\n",
    "    AST -   sum\n",
    "    MP  -   distribution - nuschat motivation: 1 - normalized std\n",
    "    PTS -   distribution\n",
    "    PA  -   distribution\n",
    "    PF  -   distribution\n",
    "index - <season>_<team_name>\n",
    "\"\"\"\n",
    "\n",
    "\"\"\" maybe - check correlation between the columns in X \"\"\"\n",
    "\n",
    "\"\"\" build y series - team success for each season \"\"\"\n",
    "\n",
    "\"\"\" check correlation for each colum in X with y \"\"\"\n",
    "\n",
    "\"\"\" hypothesis testing \"\"\"\n",
    "\n",
    "\"\"\" try building a ML model to predict success - try to minimize error rate \"\"\"\n"
   ],
   "metadata": {
    "collapsed": false,
    "pycharm": {
     "name": "#%%\n"
    }
   }
  },
  {
   "cell_type": "code",
   "execution_count": 4,
   "outputs": [
    {
     "data": {
      "text/plain": "<Figure size 432x288 with 1 Axes>",
      "image/png": "[encoded data removed]"
     },
     "metadata": {
      "needs_background": "light"
     },
     "output_type": "display_data"
    }
   ],
   "source": [
    "assists_by_team = players_df[['AST', 'TbY']].groupby(players_df.TbY).sum()\n",
    "tby_mask = (players_df.groupby(players_df.TbY).count() > 13).Tm     # a team must have at least 14 players with data\n",
    "plt.hist(assists_by_team[tby_mask], bins=100)\n",
    "plt.title('Assists for a Team Distribution')\n",
    "plt.show()\n"
   ],
   "metadata": {
    "collapsed": false,
    "pycharm": {
     "name": "#%%\n"
    }
   }
  },
  {
   "cell_type": "code",
   "execution_count": 5,
   "outputs": [
    {
     "data": {
      "text/plain": "<Figure size 432x288 with 1 Axes>",
      "image/png": "[encoded data removed]"
     },
     "metadata": {
      "needs_background": "light"
     },
     "output_type": "display_data"
    }
   ],
   "source": [
    "players_df['MpGnorm'] = players_df['MP'] / (players_df['G'] * 48)\n",
    "norm_minutes_distribution = 1 - players_df[['MpGnorm', 'TbY']].groupby(players_df.TbY).std()\n",
    "# The large the std => the division of minutes in the team is smaller.\n",
    "plt.hist(norm_minutes_distribution[tby_mask], bins=100)\n",
    "plt.title('Minutes Distribution for a Team')\n",
    "plt.show()"
   ],
   "metadata": {
    "collapsed": false,
    "pycharm": {
     "name": "#%%\n"
    }
   }
  },
  {
   "cell_type": "code",
   "execution_count": 6,
   "outputs": [
    {
     "data": {
      "text/plain": "<Figure size 432x288 with 1 Axes>",
      "image/png": "[encoded data removed]"
     },
     "metadata": {
      "needs_background": "light"
     },
     "output_type": "display_data"
    }
   ],
   "source": [
    "players_df['nPTS'] = players_df.PTS / players_df.G\n",
    "points_distribution = players_df[['nPTS', 'TbY']].groupby(players_df.TbY).std()\n",
    "norm_points_distribution = 1 - (points_distribution / np.linalg.norm(points_distribution))\n",
    "# The large the std => the division of points in the team is smaller.\n",
    "plt.hist(norm_points_distribution[tby_mask], bins=100)\n",
    "plt.title('Points Distribution for a Team')\n",
    "plt.show()"
   ],
   "metadata": {
    "collapsed": false,
    "pycharm": {
     "name": "#%%\n"
    }
   }
  },
  {
   "cell_type": "code",
   "execution_count": 7,
   "outputs": [
    {
     "data": {
      "text/plain": "<Figure size 432x288 with 1 Axes>",
      "image/png": "[encoded data removed]"
     },
     "metadata": {
      "needs_background": "light"
     },
     "output_type": "display_data"
    }
   ],
   "source": [
    "players_df['nPA'] = (3 * players_df['3PA'] + 2 * players_df['2PA']) / players_df.G\n",
    "shots_distribution = players_df[['nPA', 'TbY']].groupby(players_df.TbY).std()\n",
    "norm_shots_distribution = 1 - (shots_distribution / np.linalg.norm(shots_distribution))\n",
    "# The large the std => the division of points in the team is smaller.\n",
    "plt.hist(norm_shots_distribution[tby_mask], bins=100)\n",
    "plt.title('Shots Distribution for a Team')\n",
    "plt.show()"
   ],
   "metadata": {
    "collapsed": false,
    "pycharm": {
     "name": "#%%\n"
    }
   }
  },
  {
   "cell_type": "code",
   "execution_count": 8,
   "outputs": [
    {
     "name": "stdout",
     "output_type": "stream",
     "text": [
      "TbY\n",
      "1980 ATL     True\n",
      "1980 BOS    False\n",
      "1980 CHI     True\n",
      "1980 CLE     True\n",
      "1980 DEN     True\n",
      "            ...  \n",
      "2017 SAC     True\n",
      "2017 SAS     True\n",
      "2017 TOR     True\n",
      "2017 UTA     True\n",
      "2017 WAS     True\n",
      "Name: Tm, Length: 1044, dtype: bool\n"
     ]
    }
   ],
   "source": [
    "print(tby_mask)"
   ],
   "metadata": {
    "collapsed": false,
    "pycharm": {
     "name": "#%%\n"
    }
   }
  },
  {
   "cell_type": "code",
   "execution_count": 9,
   "outputs": [
    {
     "name": "stdout",
     "output_type": "stream",
     "text": [
      "                PER\n",
      "TbY                \n",
      "1984 CHI   2.254113\n",
      "2002 WAS   2.456892\n",
      "1992 NJN   2.570543\n",
      "1993 SAC   2.573422\n",
      "2001 WAS   2.580338\n",
      "...             ...\n",
      "2006 DEN  18.218071\n",
      "1999 DEN  18.392851\n",
      "2005 NYK  19.511366\n",
      "1999 NJN  22.112726\n",
      "2014 MIA  27.675574\n",
      "\n",
      "[1044 rows x 1 columns]\n"
     ]
    },
    {
     "data": {
      "text/plain": "<Figure size 432x288 with 1 Axes>",
      "image/png": "[encoded data removed]"
     },
     "metadata": {
      "needs_background": "light"
     },
     "output_type": "display_data"
    }
   ],
   "source": [
    "efficiency_distribution = players_df[['PER', 'TbY']].groupby(players_df.TbY).std()\n",
    "norm_efficiency_distribution = efficiency_distribution / np.linalg.norm(efficiency_distribution)\n",
    "# The large the std => the division of efficiency in the team is smaller.\n",
    "# print(norm_minutes_distribution)\n",
    "print(efficiency_distribution.sort_values(by='PER'))\n",
    "plt.hist(norm_efficiency_distribution[tby_mask], bins=100)\n",
    "plt.title('Efficiency Distribution for a Team')\n",
    "plt.show()"
   ],
   "metadata": {
    "collapsed": false,
    "pycharm": {
     "name": "#%%\n"
    }
   }
  },
  {
   "cell_type": "code",
   "execution_count": 33,
   "outputs": [
    {
     "name": "stdout",
     "output_type": "stream",
     "text": [
      "               nED       nSD       nPD       nMD       AST\n",
      "TbY                                                       \n",
      "1980 ATL  0.027840  0.975730  0.971679  0.840058  0.031516\n",
      "1980 CHI  0.018829  0.975989  0.972048  0.823408  0.035453\n",
      "1980 CLE  0.026566  0.971467  0.968778  0.802178  0.034728\n",
      "1980 DEN  0.021879  0.968642  0.965041  0.803798  0.034251\n",
      "1980 DET  0.016981  0.972004  0.971225  0.818747  0.032125\n",
      "...            ...       ...       ...       ...       ...\n",
      "2017 SAC  0.021022  0.972533  0.971700  0.866913  0.030379\n",
      "2017 SAS  0.026304  0.970016  0.969004  0.822827  0.032191\n",
      "2017 TOR  0.022826  0.966100  0.965165  0.806817  0.024992\n",
      "2017 UTA  0.024362  0.972074  0.971975  0.809557  0.027200\n",
      "2017 WAS  0.025793  0.963857  0.964890  0.766324  0.032224\n",
      "\n",
      "[958 rows x 5 columns]\n"
     ]
    }
   ],
   "source": [
    "relevant_teams_df = pd.DataFrame({ \"nED\" : norm_efficiency_distribution.PER,\n",
    "                                   \"nSD\" : norm_shots_distribution.nPA,\n",
    "                                   \"nPD\" : norm_points_distribution.nPTS,\n",
    "                                   \"nMD\" : norm_minutes_distribution.MpGnorm,\n",
    "                                   \"AST\" : assists_by_team.AST / np.linalg.norm(assists_by_team.AST) })\n",
    "relevant_teams_df = relevant_teams_df[tby_mask]\n",
    "print(relevant_teams_df)"
   ],
   "metadata": {
    "collapsed": false,
    "pycharm": {
     "name": "#%%\n"
    }
   }
  },
  {
   "cell_type": "code",
   "execution_count": 34,
   "outputs": [
    {
     "name": "stdout",
     "output_type": "stream",
     "text": [
      "We now have a matrix of teamwork measures as X in shape (936, 5),\n",
      "and a matrix of team success measures as y in shape (936, 21).\n"
     ]
    }
   ],
   "source": [
    "team_records = pd.read_csv('Team_Records.csv')\n",
    "team_records = team_records[team_records.Season > '1979']\n",
    "\n",
    "def union_star(name):\n",
    "    if name.endswith('*'):\n",
    "        return name[:-1]\n",
    "    return name\n",
    "\n",
    "team_records['uNAME'] = team_records.Team.apply(lambda name: union_star(name))\n",
    "\n",
    "team_names = pd.read_csv('Team_Names.csv')\n",
    "\n",
    "def find_team(name):\n",
    "    try:\n",
    "        nn = team_names[team_names.Long == name].Short\n",
    "        if nn.size == 1:\n",
    "            return team_names[team_names.Long == name].Short.values[0]\n",
    "        return 'NOT'\n",
    "    except KeyError:\n",
    "        return 'NOT'\n",
    "\n",
    "team_records['NN'] = team_records.uNAME.apply(lambda name: find_team(name))\n",
    "team_records['SS'] = team_records.Season.apply(\n",
    "    lambda year: year[:2] + year[-2:] if year != '1999-00' else '2000')\n",
    "team_records['TbY'] = team_records.SS + ' ' + team_records.NN\n",
    "\n",
    "trt_mask = team_records.TbY.apply(lambda ts: True if ts in relevant_teams_df.index else False)\n",
    "team_records = team_records[trt_mask]\n",
    "\n",
    "trr_mask = pd.Series(relevant_teams_df.index, index=relevant_teams_df.index).apply(\n",
    "    lambda ts: True if ts in team_records.TbY.values else False\n",
    ")\n",
    "relevant_teams_df = relevant_teams_df[trr_mask]\n",
    "\n",
    "print(f'We now have a matrix of teamwork measures as X in shape {relevant_teams_df.shape},\\n'\n",
    "      f'and a matrix of team success measures as y in shape {team_records.shape}.')\n",
    "\n",
    "# team_names = team_names.set_index(team_names.Short).drop(columns=['Short'])\n",
    "# print(team_records.Team.unique())\n",
    "# print(season_stats.Tm.unique())\n",
    "# pd.Series(relevant_teams_df.index).apply(lambda team: print(team_names.loc(team[5:])))"
   ],
   "metadata": {
    "collapsed": false,
    "pycharm": {
     "name": "#%%\n"
    }
   }
  },
  {
   "cell_type": "code",
   "execution_count": 35,
   "outputs": [
    {
     "name": "stdout",
     "output_type": "stream",
     "text": [
      "['Lost E. Conf. Finals' 'Lost E. Conf. 1st Rnd.' nan 'Lost E. Conf. Semis'\n",
      " 'Lost Finals' 'Won Finals' 'Lost W. Conf. Finals'\n",
      " 'Lost W. Conf. 1st Rnd.' 'Lost W. Conf. Semis']\n"
     ]
    },
    {
     "data": {
      "text/plain": "<Figure size 432x288 with 1 Axes>",
      "image/png": "[encoded data removed]"
     },
     "metadata": {
      "needs_background": "light"
     },
     "output_type": "display_data"
    }
   ],
   "source": [
    "\"\"\" Structuring y column by giving weights to success measures \"\"\"\n",
    "\n",
    "print(team_records.Playoffs.unique())\n",
    "\n",
    "playoffs_weights_dic = {np.nan : 0, 'Won Finals' : 1, 'Lost Finals' : 0.8,\n",
    "                        'Lost W. Conf. Finals' : 0.6, 'Lost E. Conf. Finals': 0.6,\n",
    "                        'Lost W. Conf. Semis': 0.4, 'Lost E. Conf. Semis' : 0.4,\n",
    "                        'Lost W. Conf. 1st Rnd.' : 0.2, 'Lost E. Conf. 1st Rnd.' : 0.2}\n",
    "\n",
    "team_records['PW'] = team_records.Playoffs.apply(lambda score: playoffs_weights_dic[score])\n",
    "success = 0.5 * team_records['W/L%'] + 0.5 * team_records.PW\n",
    "success.index = team_records.TbY\n",
    "\n",
    "plt.hist(success, bins=100)\n",
    "plt.title('Custom Team Success Measure Distribution')\n",
    "plt.show()\n"
   ],
   "metadata": {
    "collapsed": false,
    "pycharm": {
     "name": "#%%\n"
    }
   }
  },
  {
   "cell_type": "code",
   "execution_count": 36,
   "outputs": [],
   "source": [
    "\" Re-arrange X matrix to fit with y column \"\n",
    "relevant_teams_df = relevant_teams_df.loc[success.index]"
   ],
   "metadata": {
    "collapsed": false,
    "pycharm": {
     "name": "#%%\n"
    }
   }
  },
  {
   "cell_type": "code",
   "execution_count": 37,
   "outputs": [
    {
     "name": "stdout",
     "output_type": "stream",
     "text": [
      "Efficiency    0.190496\n",
      "Shots        -0.231869\n",
      "Points       -0.417607\n",
      "Minutes      -0.345032\n",
      "Assists       0.226713\n",
      "dtype: float64\n"
     ]
    },
    {
     "data": {
      "text/plain": "<Figure size 432x288 with 1 Axes>",
      "image/png": "[encoded data removed]"
     },
     "metadata": {
      "needs_background": "light"
     },
     "output_type": "display_data"
    }
   ],
   "source": [
    "\"\"\"checking the correlation of the custom success with each parameter\"\"\"\n",
    "correlation_series = pd.Series({\"Efficiency\" : stats.pearsonr(relevant_teams_df.nED, success)[0],\n",
    "                                \"Shots\" : stats.pearsonr(relevant_teams_df.nSD, success)[0],\n",
    "                                \"Points\" : stats.pearsonr(relevant_teams_df.nPD, success)[0],\n",
    "                                \"Minutes\" : stats.pearsonr(relevant_teams_df.nMD, success)[0],\n",
    "                                \"Assists\" : stats.pearsonr(relevant_teams_df.AST, success)[0]})\n",
    "print(correlation_series)\n",
    "correlation_series.plot(kind='bar')\n",
    "plt.tight_layout()\n",
    "plt.title('Correlation Graph')\n",
    "plt.show() # success"
   ],
   "metadata": {
    "collapsed": false,
    "pycharm": {
     "name": "#%%\n"
    }
   }
  },
  {
   "cell_type": "code",
   "execution_count": 38,
   "outputs": [
    {
     "name": "stdout",
     "output_type": "stream",
     "text": [
      "Linear Regression with Success\n"
     ]
    },
    {
     "data": {
      "text/plain": "<Figure size 432x288 with 6 Axes>",
      "image/png": "[encoded data removed]"
     },
     "metadata": {
      "needs_background": "light"
     },
     "output_type": "display_data"
    }
   ],
   "source": [
    "\"\"\"linear regression\"\"\"\n",
    "fig, axs = plt.subplots(3, 2, constrained_layout=True)\n",
    "# plot the 12 graphs\n",
    "colIndex = 0\n",
    "print(\"Linear Regression with Success\")\n",
    "for row in range(0, 3):\n",
    "    for col in range(0, 2):\n",
    "        if len(relevant_teams_df.columns) - 1 < colIndex:\n",
    "            break\n",
    "        x = relevant_teams_df[relevant_teams_df.columns[colIndex]]\n",
    "        y = success\n",
    "        m, b = np.polyfit(x, y, 1)\n",
    "        axs[row, col].scatter(x, y, s=4)\n",
    "        axs[row, col].plot(x, m * x + b, color=\"red\")\n",
    "        axs[row, col].set_title(relevant_teams_df.columns[colIndex])\n",
    "        colIndex += 1\n"
   ],
   "metadata": {
    "collapsed": false,
    "pycharm": {
     "name": "#%%\n"
    }
   }
  },
  {
   "cell_type": "code",
   "execution_count": 39,
   "outputs": [
    {
     "name": "stdout",
     "output_type": "stream",
     "text": [
      "lower bound = 0.3400688385041357\n",
      "upper bound = 0.37002945209415516\n",
      "P_value with Efficiency is 0.1904964486305807 => Alternative hypothesis is rejected.\n",
      "P_value with Shots is -0.23186887008756096 => Alternative hypothesis is rejected.\n",
      "P_value with Points is -0.4176069347929759 => Alternative hypothesis is rejected.\n",
      "P_value with Minutes is -0.34503210294400133 => Alternative hypothesis is accepted.\n",
      "P_value with Assists is 0.2267127316898603 => Alternative hypothesis is rejected.\n"
     ]
    },
    {
     "data": {
      "text/plain": "<Figure size 432x288 with 1 Axes>",
      "image/png": "[encoded data removed]"
     },
     "metadata": {
      "needs_background": "light"
     },
     "output_type": "display_data"
    }
   ],
   "source": [
    "upper_bound = np.mean(success) - (np.std(success) / math.sqrt(len(success)) * t.ppf(0.01, len(success) - 1))\n",
    "lower_bound = np.mean(success) + (np.std(success) / math.sqrt(len(success)) * t.ppf(0.01, len(success) - 1))\n",
    "columns = [\"Efficiency\", \"Shots\", \"Points\", \"Minutes\", \"Assists\"]\n",
    "print(\"lower bound =\", lower_bound)\n",
    "print(\"upper bound =\", upper_bound)\n",
    "barlist = plt.bar(columns, abs(correlation_series.values))\n",
    "for i in range(len(correlation_series.values)):\n",
    "    if upper_bound < np.abs(correlation_series.values[i]) or np.abs(correlation_series.values[i]) < lower_bound:\n",
    "        barlist[i].set_color('red')\n",
    "        print(f\"P_value with {columns[i]} is {correlation_series.values[i]} => Alternative hypothesis is rejected.\")\n",
    "    else:\n",
    "        barlist[i].set_color('blue')\n",
    "        print(f\"P_value with {columns[i]} is {correlation_series.values[i]} => Alternative hypothesis is accepted.\")\n",
    "plt.tight_layout()\n",
    "plt.plot(upper_bound, color='b')\n",
    "plt.plot(lower_bound, color='b')\n",
    "plt.title('Correlation Graph')\n",
    "plt.show()"
   ],
   "metadata": {
    "collapsed": false,
    "pycharm": {
     "name": "#%%\n"
    }
   }
  },
  {
   "cell_type": "code",
   "execution_count": 40,
   "outputs": [
    {
     "name": "stdout",
     "output_type": "stream",
     "text": [
      "TbY\n",
      "2017 BOS    0.030571\n",
      "2016 BOS    0.026478\n",
      "2015 BOS    0.028482\n",
      "2014 BOS    0.021733\n",
      "2013 BOS    0.054017\n",
      "              ...   \n",
      "2000 VAN    0.016926\n",
      "1999 VAN    0.026450\n",
      "1998 VAN    0.020968\n",
      "1997 VAN    0.018458\n",
      "1996 VAN    0.019530\n",
      "Name: nED, Length: 936, dtype: float64\n"
     ]
    }
   ],
   "source": [
    "print(relevant_teams_df.nED)"
   ],
   "metadata": {
    "collapsed": false,
    "pycharm": {
     "name": "#%%\n"
    }
   }
  },
  {
   "cell_type": "code",
   "execution_count": 49,
   "outputs": [
    {
     "name": "stdout",
     "output_type": "stream",
     "text": [
      "                            OLS Regression Results                            \n",
      "==============================================================================\n",
      "Dep. Variable:                success   R-squared:                       0.248\n",
      "Model:                            OLS   Adj. R-squared:                  0.244\n",
      "Method:                 Least Squares   F-statistic:                     61.43\n",
      "Date:                Sat, 20 Aug 2022   Prob (F-statistic):           2.21e-55\n",
      "Time:                        23:05:32   Log-Likelihood:                 327.58\n",
      "No. Observations:                 936   AIC:                            -643.2\n",
      "Df Residuals:                     930   BIC:                            -614.1\n",
      "Df Model:                           5                                         \n",
      "Covariance Type:            nonrobust                                         \n",
      "==============================================================================\n",
      "                 coef    std err          t      P>|t|      [0.025      0.975]\n",
      "------------------------------------------------------------------------------\n",
      "Intercept      7.8453      1.573      4.986      0.000       4.757      10.933\n",
      "nED            0.8031      0.496      1.619      0.106      -0.171       1.777\n",
      "nSD           17.4996      2.593      6.750      0.000      12.412      22.588\n",
      "nPD          -24.2372      2.536     -9.558      0.000     -29.214     -19.261\n",
      "nMD           -1.3670      0.241     -5.666      0.000      -1.840      -0.894\n",
      "AST            2.9643      1.474      2.011      0.045       0.071       5.857\n",
      "==============================================================================\n",
      "Omnibus:                       79.190   Durbin-Watson:                   0.952\n",
      "Prob(Omnibus):                  0.000   Jarque-Bera (JB):               97.552\n",
      "Skew:                           0.764   Prob(JB):                     6.56e-22\n",
      "Kurtosis:                       3.408   Cond. No.                     1.17e+03\n",
      "==============================================================================\n",
      "\n",
      "Notes:\n",
      "[1] Standard Errors assume that the covariance matrix of the errors is correctly specified.\n",
      "[2] The condition number is large, 1.17e+03. This might indicate that there are\n",
      "strong multicollinearity or other numerical problems.\n"
     ]
    }
   ],
   "source": [
    "from statsmodels.formula.api import ols\n",
    "\n",
    "# print(relevant_teams_df)\n",
    "relevant_teams_df['success'] = success\n",
    "# eff, shots, points, minutes, assists = relevant_teams_df.nED,\n",
    "# print(eff.iloc[0])\n",
    "linear_model = ols('success ~ nED+nSD+nPD+nMD+AST', data=relevant_teams_df).fit()\n",
    "print(linear_model.summary())"
   ],
   "metadata": {
    "collapsed": false,
    "pycharm": {
     "name": "#%%\n"
    }
   }
  },
  {
   "cell_type": "code",
   "execution_count": 50,
   "outputs": [
    {
     "name": "stdout",
     "output_type": "stream",
     "text": [
      "                            OLS Regression Results                            \n",
      "==============================================================================\n",
      "Dep. Variable:                success   R-squared:                       0.246\n",
      "Model:                            OLS   Adj. R-squared:                  0.243\n",
      "Method:                 Least Squares   F-statistic:                     76.00\n",
      "Date:                Sat, 20 Aug 2022   Prob (F-statistic):           8.66e-56\n",
      "Time:                        23:11:58   Log-Likelihood:                 326.26\n",
      "No. Observations:                 936   AIC:                            -642.5\n",
      "Df Residuals:                     931   BIC:                            -618.3\n",
      "Df Model:                           4                                         \n",
      "Covariance Type:            nonrobust                                         \n",
      "==============================================================================\n",
      "                 coef    std err          t      P>|t|      [0.025      0.975]\n",
      "------------------------------------------------------------------------------\n",
      "Intercept      8.0780      1.568      5.151      0.000       5.000      11.156\n",
      "nSD           18.2933      2.548      7.179      0.000      13.293      23.294\n",
      "nPD          -25.1695      2.472    -10.183      0.000     -30.020     -20.319\n",
      "nMD           -1.4463      0.236     -6.117      0.000      -1.910      -0.982\n",
      "AST            2.5449      1.452      1.752      0.080      -0.306       5.395\n",
      "==============================================================================\n",
      "Omnibus:                       79.684   Durbin-Watson:                   0.939\n",
      "Prob(Omnibus):                  0.000   Jarque-Bera (JB):               98.292\n",
      "Skew:                           0.767   Prob(JB):                     4.53e-22\n",
      "Kurtosis:                       3.406   Cond. No.                     1.14e+03\n",
      "==============================================================================\n",
      "\n",
      "Notes:\n",
      "[1] Standard Errors assume that the covariance matrix of the errors is correctly specified.\n",
      "[2] The condition number is large, 1.14e+03. This might indicate that there are\n",
      "strong multicollinearity or other numerical problems.\n"
     ]
    }
   ],
   "source": [
    "linear_model = ols('success ~ nSD+nPD+nMD+AST', data=relevant_teams_df).fit()\n",
    "print(linear_model.summary())"
   ],
   "metadata": {
    "collapsed": false,
    "pycharm": {
     "name": "#%%\n"
    }
   }
  },
  {
   "cell_type": "code",
   "execution_count": null,
   "outputs": [],
   "source": [],
   "metadata": {
    "collapsed": false,
    "pycharm": {
     "name": "#%%\n"
    }
   }
  }
 ],
 "metadata": {
  "kernelspec": {
   "display_name": "Python 3",
   "language": "python",
   "name": "python3"
  },
  "language_info": {
   "codemirror_mode": {
    "name": "ipython",
    "version": 2
   },
   "file_extension": ".py",
   "mimetype": "text/x-python",
   "name": "python",
   "nbconvert_exporter": "python",
   "pygments_lexer": "ipython2",
   "version": "2.7.6"
  }
 },
 "nbformat": 4,
 "nbformat_minor": 0
}